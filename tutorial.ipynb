{
  "cells": [
    {
      "cell_type": "markdown",
      "metadata": {
        "id": "view-in-github",
        "colab_type": "text"
      },
      "source": [
        "<a href=\"https://colab.research.google.com/github/Grinnday/FitSNAP/blob/master/tutorial.ipynb\" target=\"_parent\"><img src=\"https://colab.research.google.com/assets/colab-badge.svg\" alt=\"Open In Colab\"/></a>"
      ]
    },
    {
      "cell_type": "code",
      "source": [
        "!python --version"
      ],
      "metadata": {
        "id": "GMG-uCp5e-lS",
        "outputId": "1b1c86de-4834-4fa3-e8fb-4c5c29131a87",
        "colab": {
          "base_uri": "https://localhost:8080/"
        }
      },
      "execution_count": 1,
      "outputs": [
        {
          "output_type": "stream",
          "name": "stdout",
          "text": [
            "Python 3.10.12\n"
          ]
        }
      ]
    },
    {
      "cell_type": "markdown",
      "source": [
        "# Step 0: Inport dataset, libraries"
      ],
      "metadata": {
        "id": "C1FTSBCvXdOh"
      }
    },
    {
      "cell_type": "code",
      "source": [
        "import sys\n",
        "from google.colab import drive\n",
        "drive.mount('/content/drive')\n",
        "%cp -r /content/drive/MyDrive/Physics/Fraunhofer/Datasets/TinaSet/distributions /content\n",
        "%cp -r /content/drive/MyDrive/Physics/Fraunhofer/Datasets/TinaSet/fields /content\n",
        "sys.path.append('/content/promethAI/src')\n",
        "import GeneralFunc\n",
        "import lumerical2python as L2P"
      ],
      "metadata": {
        "colab": {
          "base_uri": "https://localhost:8080/"
        },
        "id": "GvRcGDRn5YoW",
        "outputId": "4c33a47a-15b9-41b0-f052-d34dcabde800"
      },
      "execution_count": 3,
      "outputs": [
        {
          "metadata": {
            "tags": null
          },
          "name": "stdout",
          "output_type": "stream",
          "text": [
            "Mounted at /content/drive\n"
          ]
        }
      ]
    },
    {
      "cell_type": "code",
      "source": [
        "np.shape(coordinates)"
      ],
      "metadata": {
        "colab": {
          "base_uri": "https://localhost:8080/"
        },
        "id": "NpvtqQtBJbnx",
        "outputId": "b157dd6b-de12-4cd6-d43a-13546b5fefa8"
      },
      "execution_count": 120,
      "outputs": [
        {
          "output_type": "execute_result",
          "data": {
            "text/plain": [
              "(400, 2, 24)"
            ]
          },
          "metadata": {},
          "execution_count": 120
        }
      ]
    },
    {
      "cell_type": "code",
      "source": [
        "import scipy\n",
        "import numpy as np\n",
        "import matplotlib.pyplot as plt"
      ],
      "metadata": {
        "id": "TOVEKFA1pm_t"
      },
      "execution_count": 135,
      "outputs": []
    },
    {
      "cell_type": "markdown",
      "metadata": {
        "id": "mupJnYzIc8eK"
      },
      "source": [
        "# Step 1: Install LAMMPS and FitSNAP"
      ]
    },
    {
      "cell_type": "markdown",
      "metadata": {
        "id": "BhlRDdK9e7Hi"
      },
      "source": [
        "If you are running locally and have already installed LAMMPS and FitSNAP, skip this step."
      ]
    },
    {
      "cell_type": "code",
      "execution_count": 9,
      "metadata": {
        "colab": {
          "base_uri": "https://localhost:8080/"
        },
        "id": "ciMh8mEhYfS-",
        "outputId": "41dda572-2f68-4413-f712-9920c38b221e"
      },
      "outputs": [
        {
          "output_type": "stream",
          "name": "stdout",
          "text": [
            "Hit:1 https://developer.download.nvidia.com/compute/cuda/repos/ubuntu2204/x86_64  InRelease\n",
            "Get:2 https://cloud.r-project.org/bin/linux/ubuntu jammy-cran40/ InRelease [3,626 B]\n",
            "Hit:3 http://archive.ubuntu.com/ubuntu jammy InRelease\n",
            "Get:4 http://security.ubuntu.com/ubuntu jammy-security InRelease [129 kB]\n",
            "Get:5 http://archive.ubuntu.com/ubuntu jammy-updates InRelease [128 kB]\n",
            "Hit:6 https://ppa.launchpadcontent.net/deadsnakes/ppa/ubuntu jammy InRelease\n",
            "Ign:7 https://r2u.stat.illinois.edu/ubuntu jammy InRelease\n",
            "Get:8 https://ppa.launchpadcontent.net/graphics-drivers/ppa/ubuntu jammy InRelease [24.3 kB]\n",
            "Get:9 https://r2u.stat.illinois.edu/ubuntu jammy Release [5,713 B]\n",
            "Hit:10 https://ppa.launchpadcontent.net/ubuntugis/ppa/ubuntu jammy InRelease\n",
            "Get:11 http://security.ubuntu.com/ubuntu jammy-security/main amd64 Packages [1,998 kB]\n",
            "Hit:12 http://archive.ubuntu.com/ubuntu jammy-backports InRelease\n",
            "Get:13 https://ppa.launchpadcontent.net/graphics-drivers/ppa/ubuntu jammy/main amd64 Packages [48.1 kB]\n",
            "Get:14 https://r2u.stat.illinois.edu/ubuntu jammy Release.gpg [793 B]\n",
            "Get:15 http://archive.ubuntu.com/ubuntu jammy-updates/universe amd64 Packages [1,410 kB]\n",
            "Get:16 https://r2u.stat.illinois.edu/ubuntu jammy/main amd64 Packages [2,545 kB]\n",
            "Get:17 http://security.ubuntu.com/ubuntu jammy-security/universe amd64 Packages [1,127 kB]\n",
            "Get:18 http://archive.ubuntu.com/ubuntu jammy-updates/main amd64 Packages [2,263 kB]\n",
            "Get:19 https://r2u.stat.illinois.edu/ubuntu jammy/main all Packages [8,184 kB]\n",
            "Fetched 17.9 MB in 5s (3,581 kB/s)\n",
            "Reading package lists... Done\n",
            "W: Skipping acquire of configured file 'main/source/Sources' as repository 'https://r2u.stat.illinois.edu/ubuntu jammy InRelease' does not seem to provide it (sources.list entry misspelt?)\n",
            "Reading package lists... Done\n",
            "Building dependency tree... Done\n",
            "Reading state information... Done\n",
            "build-essential is already the newest version (12.9ubuntu3).\n",
            "libopenmpi-dev is already the newest version (4.1.2-2ubuntu1).\n",
            "openmpi-bin is already the newest version (4.1.2-2ubuntu1).\n",
            "openmpi-bin set to manually installed.\n",
            "cmake is already the newest version (3.22.1-1ubuntu1.22.04.2).\n",
            "git is already the newest version (1:2.34.1-1ubuntu1.11).\n",
            "The following additional packages will be installed:\n",
            "  libhiredis0.14 python3-pip-whl python3-setuptools-whl\n",
            "Suggested packages:\n",
            "  distcc | icecc\n",
            "The following NEW packages will be installed:\n",
            "  ccache libhiredis0.14 python3-pip-whl python3-setuptools-whl python3.10-venv\n",
            "0 upgraded, 5 newly installed, 0 to remove and 45 not upgraded.\n",
            "Need to get 3,001 kB of archives.\n",
            "After this operation, 4,353 kB of additional disk space will be used.\n",
            "Get:1 http://archive.ubuntu.com/ubuntu jammy/universe amd64 libhiredis0.14 amd64 0.14.1-2 [32.8 kB]\n",
            "Get:2 http://archive.ubuntu.com/ubuntu jammy/universe amd64 ccache amd64 4.5.1-1 [495 kB]\n",
            "Get:3 http://archive.ubuntu.com/ubuntu jammy-updates/universe amd64 python3-pip-whl all 22.0.2+dfsg-1ubuntu0.4 [1,680 kB]\n",
            "Get:4 http://archive.ubuntu.com/ubuntu jammy-updates/universe amd64 python3-setuptools-whl all 59.6.0-1.2ubuntu0.22.04.1 [788 kB]\n",
            "Get:5 http://archive.ubuntu.com/ubuntu jammy-updates/universe amd64 python3.10-venv amd64 3.10.12-1~22.04.4 [5,712 B]\n",
            "Fetched 3,001 kB in 2s (1,575 kB/s)\n",
            "Selecting previously unselected package libhiredis0.14:amd64.\n",
            "(Reading database ... 123576 files and directories currently installed.)\n",
            "Preparing to unpack .../libhiredis0.14_0.14.1-2_amd64.deb ...\n",
            "Unpacking libhiredis0.14:amd64 (0.14.1-2) ...\n",
            "Selecting previously unselected package ccache.\n",
            "Preparing to unpack .../ccache_4.5.1-1_amd64.deb ...\n",
            "Unpacking ccache (4.5.1-1) ...\n",
            "Selecting previously unselected package python3-pip-whl.\n",
            "Preparing to unpack .../python3-pip-whl_22.0.2+dfsg-1ubuntu0.4_all.deb ...\n",
            "Unpacking python3-pip-whl (22.0.2+dfsg-1ubuntu0.4) ...\n",
            "Selecting previously unselected package python3-setuptools-whl.\n",
            "Preparing to unpack .../python3-setuptools-whl_59.6.0-1.2ubuntu0.22.04.1_all.deb ...\n",
            "Unpacking python3-setuptools-whl (59.6.0-1.2ubuntu0.22.04.1) ...\n",
            "Selecting previously unselected package python3.10-venv.\n",
            "Preparing to unpack .../python3.10-venv_3.10.12-1~22.04.4_amd64.deb ...\n",
            "Unpacking python3.10-venv (3.10.12-1~22.04.4) ...\n",
            "Setting up python3-setuptools-whl (59.6.0-1.2ubuntu0.22.04.1) ...\n",
            "Setting up python3-pip-whl (22.0.2+dfsg-1ubuntu0.4) ...\n",
            "Setting up libhiredis0.14:amd64 (0.14.1-2) ...\n",
            "Setting up python3.10-venv (3.10.12-1~22.04.4) ...\n",
            "Setting up ccache (4.5.1-1) ...\n",
            "Updating symlinks in /usr/lib/ccache ...\n",
            "Processing triggers for libc-bin (2.35-0ubuntu3.4) ...\n",
            "/sbin/ldconfig.real: /usr/local/lib/libtbbbind.so.3 is not a symbolic link\n",
            "\n",
            "/sbin/ldconfig.real: /usr/local/lib/libtbbbind_2_0.so.3 is not a symbolic link\n",
            "\n",
            "/sbin/ldconfig.real: /usr/local/lib/libtbb.so.12 is not a symbolic link\n",
            "\n",
            "/sbin/ldconfig.real: /usr/local/lib/libtbbmalloc_proxy.so.2 is not a symbolic link\n",
            "\n",
            "/sbin/ldconfig.real: /usr/local/lib/libtbbmalloc.so.2 is not a symbolic link\n",
            "\n",
            "/sbin/ldconfig.real: /usr/local/lib/libtbbbind_2_5.so.3 is not a symbolic link\n",
            "\n",
            "Processing triggers for man-db (2.10.2-1) ...\n",
            "Requirement already satisfied: pip in /usr/local/lib/python3.10/dist-packages (23.1.2)\n",
            "Collecting pip\n",
            "  Downloading pip-24.1.2-py3-none-any.whl (1.8 MB)\n",
            "\u001b[2K     \u001b[90m━━━━━━━━━━━━━━━━━━━━━━━━━━━━━━━━━━━━━━━━\u001b[0m \u001b[32m1.8/1.8 MB\u001b[0m \u001b[31m34.9 MB/s\u001b[0m eta \u001b[36m0:00:00\u001b[0m\n",
            "\u001b[?25hInstalling collected packages: pip\n",
            "  Attempting uninstall: pip\n",
            "    Found existing installation: pip 23.1.2\n",
            "    Uninstalling pip-23.1.2:\n",
            "      Successfully uninstalled pip-23.1.2\n",
            "Successfully installed pip-24.1.2\n",
            "Requirement already satisfied: numpy in /usr/local/lib/python3.10/dist-packages (1.25.2)\n",
            "Requirement already satisfied: torch in /usr/local/lib/python3.10/dist-packages (2.3.0+cu121)\n",
            "Requirement already satisfied: scipy in /usr/local/lib/python3.10/dist-packages (1.11.4)\n",
            "Collecting virtualenv\n",
            "  Downloading virtualenv-20.26.3-py3-none-any.whl.metadata (4.5 kB)\n",
            "Requirement already satisfied: psutil in /usr/local/lib/python3.10/dist-packages (5.9.5)\n",
            "Requirement already satisfied: pandas in /usr/local/lib/python3.10/dist-packages (2.0.3)\n",
            "Requirement already satisfied: tabulate in /usr/local/lib/python3.10/dist-packages (0.9.0)\n",
            "Collecting mpi4py\n",
            "  Downloading mpi4py-3.1.6.tar.gz (2.4 MB)\n",
            "\u001b[2K     \u001b[90m━━━━━━━━━━━━━━━━━━━━━━━━━━━━━━━━━━━━━━━━\u001b[0m \u001b[32m2.4/2.4 MB\u001b[0m \u001b[31m74.4 MB/s\u001b[0m eta \u001b[36m0:00:00\u001b[0m\n",
            "\u001b[?25h  Installing build dependencies ... \u001b[?25l\u001b[?25hdone\n",
            "  Getting requirements to build wheel ... \u001b[?25l\u001b[?25hdone\n",
            "  Preparing metadata (pyproject.toml) ... \u001b[?25l\u001b[?25hdone\n",
            "Requirement already satisfied: Cython in /usr/local/lib/python3.10/dist-packages (3.0.10)\n",
            "Collecting sklearn\n",
            "  Downloading sklearn-0.0.post12.tar.gz (2.6 kB)\n",
            "  \u001b[1;31merror\u001b[0m: \u001b[1msubprocess-exited-with-error\u001b[0m\n",
            "  \n",
            "  \u001b[31m×\u001b[0m \u001b[32mpython setup.py egg_info\u001b[0m did not run successfully.\n",
            "  \u001b[31m│\u001b[0m exit code: \u001b[1;36m1\u001b[0m\n",
            "  \u001b[31m╰─>\u001b[0m See above for output.\n",
            "  \n",
            "  \u001b[1;35mnote\u001b[0m: This error originates from a subprocess, and is likely not a problem with pip.\n",
            "  Preparing metadata (setup.py) ... \u001b[?25l\u001b[?25herror\n",
            "\u001b[1;31merror\u001b[0m: \u001b[1mmetadata-generation-failed\u001b[0m\n",
            "\n",
            "\u001b[31m×\u001b[0m Encountered error while generating package metadata.\n",
            "\u001b[31m╰─>\u001b[0m See above for output.\n",
            "\n",
            "\u001b[1;35mnote\u001b[0m: This is an issue with the package mentioned above, not pip.\n",
            "\u001b[1;36mhint\u001b[0m: See above for details.\n",
            "Collecting ase\n",
            "  Downloading ase-3.23.0-py3-none-any.whl.metadata (3.8 kB)\n",
            "Requirement already satisfied: numpy>=1.18.5 in /usr/local/lib/python3.10/dist-packages (from ase) (1.25.2)\n",
            "Requirement already satisfied: scipy>=1.6.0 in /usr/local/lib/python3.10/dist-packages (from ase) (1.11.4)\n",
            "Requirement already satisfied: matplotlib>=3.3.4 in /usr/local/lib/python3.10/dist-packages (from ase) (3.7.1)\n",
            "Requirement already satisfied: contourpy>=1.0.1 in /usr/local/lib/python3.10/dist-packages (from matplotlib>=3.3.4->ase) (1.2.1)\n",
            "Requirement already satisfied: cycler>=0.10 in /usr/local/lib/python3.10/dist-packages (from matplotlib>=3.3.4->ase) (0.12.1)\n",
            "Requirement already satisfied: fonttools>=4.22.0 in /usr/local/lib/python3.10/dist-packages (from matplotlib>=3.3.4->ase) (4.53.1)\n",
            "Requirement already satisfied: kiwisolver>=1.0.1 in /usr/local/lib/python3.10/dist-packages (from matplotlib>=3.3.4->ase) (1.4.5)\n",
            "Requirement already satisfied: packaging>=20.0 in /usr/local/lib/python3.10/dist-packages (from matplotlib>=3.3.4->ase) (24.1)\n",
            "Requirement already satisfied: pillow>=6.2.0 in /usr/local/lib/python3.10/dist-packages (from matplotlib>=3.3.4->ase) (9.4.0)\n",
            "Requirement already satisfied: pyparsing>=2.3.1 in /usr/local/lib/python3.10/dist-packages (from matplotlib>=3.3.4->ase) (3.1.2)\n",
            "Requirement already satisfied: python-dateutil>=2.7 in /usr/local/lib/python3.10/dist-packages (from matplotlib>=3.3.4->ase) (2.8.2)\n",
            "Requirement already satisfied: six>=1.5 in /usr/local/lib/python3.10/dist-packages (from python-dateutil>=2.7->matplotlib>=3.3.4->ase) (1.16.0)\n",
            "Downloading ase-3.23.0-py3-none-any.whl (2.9 MB)\n",
            "\u001b[2K   \u001b[90m━━━━━━━━━━━━━━━━━━━━━━━━━━━━━━━━━━━━━━━━\u001b[0m \u001b[32m2.9/2.9 MB\u001b[0m \u001b[31m80.4 MB/s\u001b[0m eta \u001b[36m0:00:00\u001b[0m\n",
            "\u001b[?25hInstalling collected packages: ase\n",
            "Successfully installed ase-3.23.0\n",
            "\u001b[33mWARNING: Running pip as the 'root' user can result in broken permissions and conflicting behaviour with the system package manager, possibly rendering your system unusable.It is recommended to use a virtual environment instead: https://pip.pypa.io/warnings/venv. Use the --root-user-action option if you know what you are doing and want to suppress this warning.\u001b[0m\u001b[33m\n",
            "\u001b[0mCollecting fitsnap3\n",
            "  Downloading fitsnap3-3.1.0.4-py3-none-any.whl.metadata (25 kB)\n",
            "Requirement already satisfied: numpy in /usr/local/lib/python3.10/dist-packages (from fitsnap3) (1.25.2)\n",
            "Requirement already satisfied: scipy in /usr/local/lib/python3.10/dist-packages (from fitsnap3) (1.11.4)\n",
            "Requirement already satisfied: scikit-learn in /usr/local/lib/python3.10/dist-packages (from fitsnap3) (1.2.2)\n",
            "Collecting virtualenv (from fitsnap3)\n",
            "  Using cached virtualenv-20.26.3-py3-none-any.whl.metadata (4.5 kB)\n",
            "Requirement already satisfied: psutil in /usr/local/lib/python3.10/dist-packages (from fitsnap3) (5.9.5)\n",
            "Requirement already satisfied: pandas in /usr/local/lib/python3.10/dist-packages (from fitsnap3) (2.0.3)\n",
            "Requirement already satisfied: tabulate in /usr/local/lib/python3.10/dist-packages (from fitsnap3) (0.9.0)\n",
            "Collecting mpi4py (from fitsnap3)\n",
            "  Using cached mpi4py-3.1.6.tar.gz (2.4 MB)\n",
            "  Installing build dependencies ... \u001b[?25l\u001b[?25hdone\n",
            "  Getting requirements to build wheel ... \u001b[?25l\u001b[?25hdone\n",
            "  Preparing metadata (pyproject.toml) ... \u001b[?25l\u001b[?25hdone\n",
            "Requirement already satisfied: Cython in /usr/local/lib/python3.10/dist-packages (from fitsnap3) (3.0.10)\n",
            "Requirement already satisfied: torch in /usr/local/lib/python3.10/dist-packages (from fitsnap3) (2.3.0+cu121)\n",
            "Requirement already satisfied: sympy in /usr/local/lib/python3.10/dist-packages (from fitsnap3) (1.13.0)\n",
            "Requirement already satisfied: pyyaml in /usr/local/lib/python3.10/dist-packages (from fitsnap3) (6.0.1)\n",
            "Requirement already satisfied: python-dateutil>=2.8.2 in /usr/local/lib/python3.10/dist-packages (from pandas->fitsnap3) (2.8.2)\n",
            "Requirement already satisfied: pytz>=2020.1 in /usr/local/lib/python3.10/dist-packages (from pandas->fitsnap3) (2023.4)\n",
            "Requirement already satisfied: tzdata>=2022.1 in /usr/local/lib/python3.10/dist-packages (from pandas->fitsnap3) (2024.1)\n",
            "Requirement already satisfied: joblib>=1.1.1 in /usr/local/lib/python3.10/dist-packages (from scikit-learn->fitsnap3) (1.4.2)\n",
            "Requirement already satisfied: threadpoolctl>=2.0.0 in /usr/local/lib/python3.10/dist-packages (from scikit-learn->fitsnap3) (3.5.0)\n",
            "Requirement already satisfied: mpmath<1.4,>=1.1.0 in /usr/local/lib/python3.10/dist-packages (from sympy->fitsnap3) (1.3.0)\n",
            "Requirement already satisfied: filelock in /usr/local/lib/python3.10/dist-packages (from torch->fitsnap3) (3.15.4)\n",
            "Requirement already satisfied: typing-extensions>=4.8.0 in /usr/local/lib/python3.10/dist-packages (from torch->fitsnap3) (4.12.2)\n",
            "Requirement already satisfied: networkx in /usr/local/lib/python3.10/dist-packages (from torch->fitsnap3) (3.3)\n",
            "Requirement already satisfied: jinja2 in /usr/local/lib/python3.10/dist-packages (from torch->fitsnap3) (3.1.4)\n",
            "Requirement already satisfied: fsspec in /usr/local/lib/python3.10/dist-packages (from torch->fitsnap3) (2023.6.0)\n",
            "Requirement already satisfied: nvidia-cuda-nvrtc-cu12==12.1.105 in /usr/local/lib/python3.10/dist-packages (from torch->fitsnap3) (12.1.105)\n",
            "Requirement already satisfied: nvidia-cuda-runtime-cu12==12.1.105 in /usr/local/lib/python3.10/dist-packages (from torch->fitsnap3) (12.1.105)\n",
            "Requirement already satisfied: nvidia-cuda-cupti-cu12==12.1.105 in /usr/local/lib/python3.10/dist-packages (from torch->fitsnap3) (12.1.105)\n",
            "Requirement already satisfied: nvidia-cudnn-cu12==8.9.2.26 in /usr/local/lib/python3.10/dist-packages (from torch->fitsnap3) (8.9.2.26)\n",
            "Requirement already satisfied: nvidia-cublas-cu12==12.1.3.1 in /usr/local/lib/python3.10/dist-packages (from torch->fitsnap3) (12.1.3.1)\n",
            "Requirement already satisfied: nvidia-cufft-cu12==11.0.2.54 in /usr/local/lib/python3.10/dist-packages (from torch->fitsnap3) (11.0.2.54)\n",
            "Requirement already satisfied: nvidia-curand-cu12==10.3.2.106 in /usr/local/lib/python3.10/dist-packages (from torch->fitsnap3) (10.3.2.106)\n",
            "Requirement already satisfied: nvidia-cusolver-cu12==11.4.5.107 in /usr/local/lib/python3.10/dist-packages (from torch->fitsnap3) (11.4.5.107)\n",
            "Requirement already satisfied: nvidia-cusparse-cu12==12.1.0.106 in /usr/local/lib/python3.10/dist-packages (from torch->fitsnap3) (12.1.0.106)\n",
            "Requirement already satisfied: nvidia-nccl-cu12==2.20.5 in /usr/local/lib/python3.10/dist-packages (from torch->fitsnap3) (2.20.5)\n",
            "Requirement already satisfied: nvidia-nvtx-cu12==12.1.105 in /usr/local/lib/python3.10/dist-packages (from torch->fitsnap3) (12.1.105)\n",
            "Requirement already satisfied: triton==2.3.0 in /usr/local/lib/python3.10/dist-packages (from torch->fitsnap3) (2.3.0)\n",
            "Requirement already satisfied: nvidia-nvjitlink-cu12 in /usr/local/lib/python3.10/dist-packages (from nvidia-cusolver-cu12==11.4.5.107->torch->fitsnap3) (12.5.82)\n",
            "Collecting distlib<1,>=0.3.7 (from virtualenv->fitsnap3)\n",
            "  Downloading distlib-0.3.8-py2.py3-none-any.whl.metadata (5.1 kB)\n",
            "Requirement already satisfied: platformdirs<5,>=3.9.1 in /usr/local/lib/python3.10/dist-packages (from virtualenv->fitsnap3) (4.2.2)\n",
            "Requirement already satisfied: six>=1.5 in /usr/local/lib/python3.10/dist-packages (from python-dateutil>=2.8.2->pandas->fitsnap3) (1.16.0)\n",
            "Requirement already satisfied: MarkupSafe>=2.0 in /usr/local/lib/python3.10/dist-packages (from jinja2->torch->fitsnap3) (2.1.5)\n",
            "Downloading fitsnap3-3.1.0.4-py3-none-any.whl (221 kB)\n",
            "\u001b[2K   \u001b[90m━━━━━━━━━━━━━━━━━━━━━━━━━━━━━━━━━━━━━━━━\u001b[0m \u001b[32m221.5/221.5 kB\u001b[0m \u001b[31m18.0 MB/s\u001b[0m eta \u001b[36m0:00:00\u001b[0m\n",
            "\u001b[?25hDownloading virtualenv-20.26.3-py3-none-any.whl (5.7 MB)\n",
            "\u001b[2K   \u001b[90m━━━━━━━━━━━━━━━━━━━━━━━━━━━━━━━━━━━━━━━━\u001b[0m \u001b[32m5.7/5.7 MB\u001b[0m \u001b[31m118.6 MB/s\u001b[0m eta \u001b[36m0:00:00\u001b[0m\n",
            "\u001b[?25hDownloading distlib-0.3.8-py2.py3-none-any.whl (468 kB)\n",
            "\u001b[2K   \u001b[90m━━━━━━━━━━━━━━━━━━━━━━━━━━━━━━━━━━━━━━━━\u001b[0m \u001b[32m468.9/468.9 kB\u001b[0m \u001b[31m37.4 MB/s\u001b[0m eta \u001b[36m0:00:00\u001b[0m\n",
            "\u001b[?25hBuilding wheels for collected packages: mpi4py\n",
            "  Building wheel for mpi4py (pyproject.toml) ... \u001b[?25l\u001b[?25hdone\n",
            "  Created wheel for mpi4py: filename=mpi4py-3.1.6-cp310-cp310-linux_x86_64.whl size=2746327 sha256=7a064276887a2caf3c8cd74a073375c9758f1760b722a2d0edf5f27adb22340e\n",
            "  Stored in directory: /root/.cache/pip/wheels/4c/ca/89/8fc1fb1c620afca13bb41c630b1f948bbf446e0aaa4b762e10\n",
            "Successfully built mpi4py\n",
            "Installing collected packages: distlib, virtualenv, mpi4py, fitsnap3\n",
            "Successfully installed distlib-0.3.8 fitsnap3-3.1.0.4 mpi4py-3.1.6 virtualenv-20.26.3\n",
            "\u001b[33mWARNING: Running pip as the 'root' user can result in broken permissions and conflicting behaviour with the system package manager, possibly rendering your system unusable.It is recommended to use a virtual environment instead: https://pip.pypa.io/warnings/venv. Use the --root-user-action option if you know what you are doing and want to suppress this warning.\u001b[0m\u001b[33m\n",
            "\u001b[0m/content\n",
            "Cloning into 'lammps'...\n",
            "remote: Enumerating objects: 391078, done.\u001b[K\n",
            "remote: Counting objects: 100% (417/417), done.\u001b[K\n",
            "remote: Compressing objects: 100% (205/205), done.\u001b[K\n",
            "remote: Total 391078 (delta 256), reused 364 (delta 212), pack-reused 390661\u001b[K\n",
            "Receiving objects: 100% (391078/391078), 712.96 MiB | 15.41 MiB/s, done.\n",
            "Resolving deltas: 100% (327675/327675), done.\n",
            "Updating files: 100% (13197/13197), done.\n",
            "/content/lammps\n",
            "/content/lammps/build\n",
            "-- The CXX compiler identification is GNU 11.4.0\n",
            "-- Detecting CXX compiler ABI info\n",
            "-- Detecting CXX compiler ABI info - done\n",
            "-- Check for working CXX compiler: /usr/bin/c++ - skipped\n",
            "-- Detecting CXX compile features\n",
            "-- Detecting CXX compile features - done\n",
            "-- Found Git: /usr/bin/git (found version \"2.34.1\") \n",
            "-- Appending /usr/local/cuda/lib64/stubs to CMAKE_LIBRARY_PATH: /usr/local/cuda/lib64/stubs\n",
            "-- Running check for auto-generated files from make-based build system\n",
            "-- Found MPI_CXX: /usr/lib/x86_64-linux-gnu/openmpi/lib/libmpi_cxx.so (found version \"3.1\") \n",
            "-- Found MPI: TRUE (found version \"3.1\")  \n",
            "-- Looking for C++ include omp.h\n",
            "-- Looking for C++ include omp.h - found\n",
            "-- Found OpenMP_CXX: -fopenmp (found version \"4.5\") \n",
            "-- Found OpenMP: TRUE (found version \"4.5\") found components: CXX \n",
            "-- Found JPEG: /usr/lib/x86_64-linux-gnu/libjpeg.so (found version \"80\") \n",
            "-- Found PNG: /usr/lib/x86_64-linux-gnu/libpng.so (found version \"1.6.37\") \n",
            "-- Found ZLIB: /usr/lib/x86_64-linux-gnu/libz.so (found version \"1.2.11\")  \n",
            "-- Found GZIP: /usr/bin/gzip  \n",
            "-- Found FFMPEG: /usr/bin/ffmpeg  \n",
            "-- Found Python: /usr/local/bin/python (found version \"3.10.12\") found components: Interpreter \n",
            "-- Found Python: /usr/local/bin/python (found version \"3.10.12\") found components: Interpreter Development Development.Module Development.Embed \n",
            "-- Found Cythonize: /usr/local/bin/cythonize  \n",
            "-- Found Python: /usr/include/python3.10 (found version \"3.10.12\") found components: NumPy Interpreter Development.Module \n",
            "-- Downloading https://github.com/ICAMS/lammps-user-pace/archive/refs/tags/v.2023.11.25.fix.tar.gz\n",
            "\u001b[0mCMake Deprecation Warning at /content/lammps/build/lammps-user-pace-v.2023.11.25.fix/CMakeLists.txt:12 (cmake_policy):\n",
            "  The OLD behavior for policy CMP0109 will be removed from a future version\n",
            "  of CMake.\n",
            "\n",
            "  The cmake-policies(7) manual explains that the OLD behaviors of all\n",
            "  policies are deprecated and that a policy should be set to OLD only under\n",
            "  specific short-term circumstances.  Projects should be ported to the NEW\n",
            "  behavior and not rely on setting a policy to OLD.\n",
            "\n",
            "\u001b[0m\n",
            "-- Looking for C++ include cmath\n",
            "-- Looking for C++ include cmath - found\n",
            "-- Generating style headers...\n",
            "-- Generating package headers...\n",
            "-- Generating lmpinstalledpkgs.h...\n",
            "-- Found Python: /usr/local/bin/python (found version \"3.10.12\") found components: Interpreter \n",
            "-- Found Python3: /usr/local/bin/python (found version \"3.10.12\") found components: Interpreter \n",
            "-- Could NOT find ClangFormat (missing: ClangFormat_EXECUTABLE) (Required is at least version \"8.0\")\n",
            "-- The following tools and libraries have been found and configured:\n",
            " * Git\n",
            " * MPI\n",
            " * OpenMP\n",
            " * JPEG\n",
            " * PNG\n",
            " * ZLIB\n",
            " * Cythonize\n",
            " * Python\n",
            " * Python3\n",
            "\n",
            "-- <<< Build configuration >>>\n",
            "   LAMMPS Version:   20240627 patch_27Jun2024-12-g993a7cce54\n",
            "   Operating System: Linux Ubuntu\" 22.04\n",
            "   CMake Version:    3.27.9\n",
            "   Build type:       RelWithDebInfo\n",
            "   Install path:     /root/.local\n",
            "   Generator:        Unix Makefiles using /usr/bin/gmake\n",
            "-- Enabled packages: ML-IAP;ML-PACE;ML-SNAP;PYTHON;SPIN\n",
            "-- <<< Compilers and Flags: >>>\n",
            "-- C++ Compiler:     /usr/bin/c++\n",
            "      Type:          GNU\n",
            "      Version:       11.4.0\n",
            "      C++ Flags:     -O2 -g -DNDEBUG\n",
            "      Defines:       LAMMPS_SMALLBIG;LAMMPS_MEMALIGN=64;LAMMPS_OMP_COMPAT=4;LAMMPS_JPEG;LAMMPS_PNG;LAMMPS_GZIP;LAMMPS_FFMPEG;LMP_PYTHON;MLIAP_PYTHON;MLIAP_ACE\n",
            "-- <<< Linker flags: >>>\n",
            "-- Executable name:  lmp\n",
            "-- Shared library flags:    \n",
            "-- <<< MPI flags >>>\n",
            "-- MPI_defines:      MPICH_SKIP_MPICXX;OMPI_SKIP_MPICXX;_MPICC_H\n",
            "-- MPI includes:     /usr/lib/x86_64-linux-gnu/openmpi/include;/usr/lib/x86_64-linux-gnu/openmpi/include/openmpi\n",
            "-- MPI libraries:    /usr/lib/x86_64-linux-gnu/openmpi/lib/libmpi_cxx.so;/usr/lib/x86_64-linux-gnu/openmpi/lib/libmpi.so;\n",
            "-- Configuring done (6.9s)\n",
            "-- Generating done (0.1s)\n",
            "-- Build files have been written to: /content/lammps/build\n",
            "[  0%] \u001b[32mBuilding CXX object build-pace/CMakeFiles/cnpy-static.dir/cnpy/cnpy.cpp.o\u001b[0m\n",
            "[  0%] \u001b[32mBuilding CXX object build-pace/build-yaml-cpp/CMakeFiles/yaml-cpp-pace.dir/src/binary.cpp.o\u001b[0m\n",
            "[  0%] \u001b[32mBuilding CXX object build-pace/build-yaml-cpp/CMakeFiles/yaml-cpp-pace.dir/src/convert.cpp.o\u001b[0m\n",
            "[  0%] \u001b[32mBuilding CXX object build-pace/build-yaml-cpp/CMakeFiles/yaml-cpp-pace.dir/src/depthguard.cpp.o\u001b[0m\n",
            "[  0%] \u001b[32mBuilding CXX object build-pace/build-yaml-cpp/CMakeFiles/yaml-cpp-pace.dir/src/directives.cpp.o\u001b[0m\n",
            "[  1%] \u001b[32mBuilding CXX object build-pace/build-yaml-cpp/CMakeFiles/yaml-cpp-pace.dir/src/emit.cpp.o\u001b[0m\n",
            "[  1%] \u001b[32mBuilding CXX object build-pace/build-yaml-cpp/CMakeFiles/yaml-cpp-pace.dir/src/emitfromevents.cpp.o\u001b[0m\n",
            "[  1%] \u001b[32mBuilding CXX object build-pace/build-yaml-cpp/CMakeFiles/yaml-cpp-pace.dir/src/emitter.cpp.o\u001b[0m\n",
            "[  1%] \u001b[32mBuilding CXX object build-pace/build-yaml-cpp/CMakeFiles/yaml-cpp-pace.dir/src/emitterstate.cpp.o\u001b[0m\n",
            "[  1%] \u001b[32mBuilding CXX object build-pace/build-yaml-cpp/CMakeFiles/yaml-cpp-pace.dir/src/emitterutils.cpp.o\u001b[0m\n",
            "[  1%] \u001b[32m\u001b[1mLinking CXX static library libcnpy-static.a\u001b[0m\n",
            "[  1%] Built target cnpy-static\n",
            "[  1%] \u001b[34m\u001b[1mGenerating includes/lammps/universe.h\u001b[0m\n",
            "[  1%] Built target universe.h\n",
            "[  1%] \u001b[34m\u001b[1mGenerating includes/lammps/update.h\u001b[0m\n",
            "[  1%] Built target update.h\n",
            "[  1%] \u001b[34m\u001b[1mGenerating includes/lammps/utils.h\u001b[0m\n",
            "[  1%] Built target utils.h\n",
            "[  2%] \u001b[34m\u001b[1mGenerating includes/lammps/variable.h\u001b[0m\n",
            "[  2%] Built target variable.h\n",
            "[  3%] \u001b[34m\u001b[1mGenerating includes/lammps/lmppython.h\u001b[0m\n",
            "[  3%] Built target lmppython.h\n",
            "[  3%] \u001b[34m\u001b[1mGenerating includes/lammps/lmptype.h\u001b[0m\n",
            "[  3%] Built target lmptype.h\n",
            "[  3%] \u001b[34m\u001b[1mGenerating includes/lammps/memory.h\u001b[0m\n",
            "[  3%] Built target memory.h\n",
            "[  4%] \u001b[32mBuilding CXX object build-pace/build-yaml-cpp/CMakeFiles/yaml-cpp-pace.dir/src/exceptions.cpp.o\u001b[0m\n",
            "[  4%] \u001b[32mBuilding CXX object build-pace/build-yaml-cpp/CMakeFiles/yaml-cpp-pace.dir/src/exp.cpp.o\u001b[0m\n",
            "[  4%] \u001b[32mBuilding CXX object build-pace/build-yaml-cpp/CMakeFiles/yaml-cpp-pace.dir/src/memory.cpp.o\u001b[0m\n",
            "[  4%] \u001b[32mBuilding CXX object build-pace/build-yaml-cpp/CMakeFiles/yaml-cpp-pace.dir/src/node.cpp.o\u001b[0m\n",
            "[  4%] \u001b[32mBuilding CXX object build-pace/build-yaml-cpp/CMakeFiles/yaml-cpp-pace.dir/src/node_data.cpp.o\u001b[0m\n",
            "[  5%] \u001b[32mBuilding CXX object build-pace/build-yaml-cpp/CMakeFiles/yaml-cpp-pace.dir/src/nodebuilder.cpp.o\u001b[0m\n",
            "[  5%] \u001b[32mBuilding CXX object build-pace/build-yaml-cpp/CMakeFiles/yaml-cpp-pace.dir/src/nodeevents.cpp.o\u001b[0m\n",
            "[  5%] \u001b[32mBuilding CXX object build-pace/build-yaml-cpp/CMakeFiles/yaml-cpp-pace.dir/src/null.cpp.o\u001b[0m\n",
            "[  5%] \u001b[32mBuilding CXX object build-pace/build-yaml-cpp/CMakeFiles/yaml-cpp-pace.dir/src/ostream_wrapper.cpp.o\u001b[0m\n",
            "[  5%] \u001b[32mBuilding CXX object build-pace/build-yaml-cpp/CMakeFiles/yaml-cpp-pace.dir/src/parse.cpp.o\u001b[0m\n",
            "[  6%] \u001b[32mBuilding CXX object build-pace/build-yaml-cpp/CMakeFiles/yaml-cpp-pace.dir/src/parser.cpp.o\u001b[0m\n",
            "[  6%] \u001b[32mBuilding CXX object build-pace/build-yaml-cpp/CMakeFiles/yaml-cpp-pace.dir/src/regex_yaml.cpp.o\u001b[0m\n",
            "[  6%] \u001b[32mBuilding CXX object build-pace/build-yaml-cpp/CMakeFiles/yaml-cpp-pace.dir/src/scanner.cpp.o\u001b[0m\n",
            "[  6%] \u001b[32mBuilding CXX object build-pace/build-yaml-cpp/CMakeFiles/yaml-cpp-pace.dir/src/scanscalar.cpp.o\u001b[0m\n",
            "[  6%] \u001b[32mBuilding CXX object build-pace/build-yaml-cpp/CMakeFiles/yaml-cpp-pace.dir/src/scantag.cpp.o\u001b[0m\n",
            "[  7%] \u001b[32mBuilding CXX object build-pace/build-yaml-cpp/CMakeFiles/yaml-cpp-pace.dir/src/scantoken.cpp.o\u001b[0m\n",
            "[  7%] \u001b[32mBuilding CXX object build-pace/build-yaml-cpp/CMakeFiles/yaml-cpp-pace.dir/src/simplekey.cpp.o\u001b[0m\n",
            "[  7%] \u001b[32mBuilding CXX object build-pace/build-yaml-cpp/CMakeFiles/yaml-cpp-pace.dir/src/singledocparser.cpp.o\u001b[0m\n",
            "[  7%] \u001b[32mBuilding CXX object build-pace/build-yaml-cpp/CMakeFiles/yaml-cpp-pace.dir/src/stream.cpp.o\u001b[0m\n",
            "[  7%] \u001b[32mBuilding CXX object build-pace/build-yaml-cpp/CMakeFiles/yaml-cpp-pace.dir/src/tag.cpp.o\u001b[0m\n",
            "[  7%] \u001b[34m\u001b[1mGenerating includes/lammps/modify.h\u001b[0m\n",
            "[  7%] Built target modify.h\n",
            "[  7%] \u001b[34m\u001b[1mGenerating includes/lammps/comm.h\u001b[0m\n",
            "[  8%] \u001b[32m\u001b[1mLinking CXX static library libyaml-cpp-pace.a\u001b[0m\n",
            "[  8%] Built target comm.h\n",
            "[  9%] \u001b[34m\u001b[1mGenerating includes/lammps/command.h\u001b[0m\n",
            "[  9%] Built target command.h\n",
            "[  9%] \u001b[34m\u001b[1mGenerating includes/lammps/compute.h\u001b[0m\n",
            "[  9%] Built target compute.h\n",
            "[  9%] \u001b[34m\u001b[1mGenerating includes/lammps/kspace.h\u001b[0m\n",
            "[  9%] Built target kspace.h\n",
            "[ 10%] \u001b[34m\u001b[1mGenerating includes/lammps/lammps.h\u001b[0m\n",
            "[ 10%] Built target lammps.h\n",
            "[ 10%] \u001b[34m\u001b[1mGenerating includes/lammps/lattice.h\u001b[0m\n",
            "[ 10%] Built target lattice.h\n",
            "[ 10%] \u001b[34m\u001b[1mGenerating includes/lammps/library.h\u001b[0m\n",
            "[ 10%] Built target library.h\n",
            "[ 11%] \u001b[34m\u001b[1mGenerating includes/lammps/neighbor.h\u001b[0m\n",
            "[ 11%] Built target neighbor.h\n",
            "[ 11%] \u001b[34m\u001b[1mGenerating includes/lammps/neigh_list.h\u001b[0m\n",
            "[ 11%] Built target neigh_list.h\n",
            "[ 11%] \u001b[34m\u001b[1mGenerating includes/lammps/output.h\u001b[0m\n",
            "[ 11%] Built target output.h\n",
            "[ 11%] \u001b[34m\u001b[1mGenerating includes/lammps/pair.h\u001b[0m\n",
            "[ 11%] Built target pair.h\n",
            "[ 11%] \u001b[34m\u001b[1mGenerating includes/lammps/platform.h\u001b[0m\n",
            "[ 11%] Built target platform.h\n",
            "[ 11%] \u001b[34m\u001b[1mGenerating includes/lammps/pointers.h\u001b[0m\n",
            "[ 11%] Built target pointers.h\n",
            "[ 11%] Built target yaml-cpp-pace\n",
            "[ 12%] \u001b[34m\u001b[1mGenerating includes/lammps/region.h\u001b[0m\n",
            "[ 12%] \u001b[34m\u001b[1mGenerating includes/lammps/timer.h\u001b[0m\n",
            "[ 12%] Built target region.h\n",
            "[ 12%] Built target timer.h\n",
            "[ 12%] \u001b[34m\u001b[1mGenerating includes/lammps/dihedral.h\u001b[0m\n",
            "[ 12%] \u001b[34m\u001b[1mGenerating includes/lammps/domain.h\u001b[0m\n",
            "[ 12%] Built target dihedral.h\n",
            "[ 12%] Built target domain.h\n",
            "[ 12%] \u001b[34m\u001b[1mGenerating includes/lammps/error.h\u001b[0m\n",
            "[ 12%] \u001b[34m\u001b[1mGenerating includes/lammps/group.h\u001b[0m\n",
            "[ 12%] Built target error.h\n",
            "[ 12%] Built target group.h\n",
            "[ 12%] \u001b[34m\u001b[1mGenerating includes/lammps/improper.h\u001b[0m\n",
            "[ 12%] \u001b[34m\u001b[1mGenerating includes/lammps/input.h\u001b[0m\n",
            "[ 12%] Built target improper.h\n",
            "[ 12%] Built target input.h\n",
            "[ 13%] \u001b[34m\u001b[1mGenerating includes/lammps/info.h\u001b[0m\n",
            "[ 14%] \u001b[34m\u001b[1mGenerating includes/lammps/exceptions.h\u001b[0m\n",
            "[ 14%] Built target info.h\n",
            "[ 14%] Built target exceptions.h\n",
            "[ 14%] \u001b[34m\u001b[1mGenerating includes/lammps/fix.h\u001b[0m\n",
            "[ 14%] \u001b[34m\u001b[1mGenerating includes/lammps/force.h\u001b[0m\n",
            "[ 14%] Built target fix.h\n",
            "[ 14%] Built target force.h\n",
            "[ 15%] \u001b[34m\u001b[1mGenerating includes/lammps/fmt/core.h\u001b[0m\n",
            "[ 15%] \u001b[34m\u001b[1mGenerating includes/lammps/fmt/format.h\u001b[0m\n",
            "[ 15%] Built target fmt_core.h\n",
            "[ 15%] Built target fmt_format.h\n",
            "-- Git Directory: /content/lammps/.git\n",
            "[ 15%] \u001b[34m\u001b[1mGenerating includes/lammps/angle.h\u001b[0m\n",
            "[ 15%] Built target angle.h\n",
            "[ 15%] \u001b[34m\u001b[1mGenerating includes/lammps/atom.h\u001b[0m\n",
            "-- Generating lmpgitversion.h...\n",
            "[ 15%] Built target atom.h\n",
            "[ 15%] Built target gitversion\n",
            "[ 15%] \u001b[34m\u001b[1mGenerating includes/lammps/bond.h\u001b[0m\n",
            "[ 15%] \u001b[34m\u001b[1mGenerating includes/lammps/citeme.h\u001b[0m\n",
            "[ 15%] Built target bond.h\n",
            "[ 15%] Built target citeme.h\n",
            "[ 15%] \u001b[32mBuilding CXX object build-pace/CMakeFiles/pace.dir/ML-PACE/ace-evaluator/ace_abstract_basis.cpp.o\u001b[0m\n",
            "[ 15%] \u001b[32mBuilding CXX object build-pace/CMakeFiles/pace.dir/ML-PACE/ace-evaluator/ace_c_basis.cpp.o\u001b[0m\n",
            "[ 15%] \u001b[32mBuilding CXX object build-pace/CMakeFiles/pace.dir/ML-PACE/ace-evaluator/ace_evaluator.cpp.o\u001b[0m\n",
            "[ 16%] \u001b[32mBuilding CXX object build-pace/CMakeFiles/pace.dir/ML-PACE/ace-evaluator/ace_flatten_basis.cpp.o\u001b[0m\n",
            "[ 16%] \u001b[32mBuilding CXX object build-pace/CMakeFiles/pace.dir/ML-PACE/ace-evaluator/ace_radial.cpp.o\u001b[0m\n",
            "[ 16%] \u001b[32mBuilding CXX object build-pace/CMakeFiles/pace.dir/ML-PACE/ace-evaluator/ace_recursive.cpp.o\u001b[0m\n",
            "[ 16%] \u001b[32mBuilding CXX object build-pace/CMakeFiles/pace.dir/ML-PACE/ace-evaluator/ace_spherical_cart.cpp.o\u001b[0m\n",
            "[ 16%] \u001b[32mBuilding CXX object build-pace/CMakeFiles/pace.dir/ML-PACE/ace-evaluator/ships_radial.cpp.o\u001b[0m\n",
            "[ 16%] \u001b[32mBuilding CXX object build-pace/CMakeFiles/pace.dir/ML-PACE/ace/ace_b_basis.cpp.o\u001b[0m\n",
            "[ 17%] \u001b[32mBuilding CXX object build-pace/CMakeFiles/pace.dir/ML-PACE/ace/ace_b_basisfunction.cpp.o\u001b[0m\n",
            "[ 17%] \u001b[32mBuilding CXX object build-pace/CMakeFiles/pace.dir/ML-PACE/ace/ace_b_evaluator.cpp.o\u001b[0m\n",
            "[ 17%] \u001b[32mBuilding CXX object build-pace/CMakeFiles/pace.dir/ML-PACE/ace/ace_clebsch_gordan.cpp.o\u001b[0m\n",
            "[ 17%] \u001b[32mBuilding CXX object build-pace/CMakeFiles/pace.dir/ML-PACE/ace/ace_couplings.cpp.o\u001b[0m\n",
            "[ 17%] \u001b[32mBuilding CXX object build-pace/CMakeFiles/pace.dir/ML-PACE/ace/ace_spherical_polar.cpp.o\u001b[0m\n",
            "[ 18%] \u001b[32mBuilding CXX object build-pace/CMakeFiles/pace.dir/ML-PACE/ace/ace_yaml_input.cpp.o\u001b[0m\n",
            "[ 18%] \u001b[32m\u001b[1mLinking CXX static library liblammps_pace.a\u001b[0m\n",
            "[ 18%] Built target pace\n",
            "[ 19%] \u001b[34m\u001b[1mGenerating C++ sources with cythonize...\u001b[0m\n",
            "[ 19%] \u001b[34m\u001b[1mGenerating C++ sources with cythonize...\u001b[0m\n",
            "Compiling /content/lammps/build/cython/mliap_model_python_couple.pyx because it changed.\n",
            "[1/1] Cythonizing /content/lammps/build/cython/mliap_model_python_couple.pyx\n",
            "Compiling /content/lammps/build/cython/mliap_unified_couple.pyx because it changed.\n",
            "[1/1] Cythonizing /content/lammps/build/cython/mliap_unified_couple.pyx\n",
            "performance hint: mliap_model_python_couple.pyx:91:5: Exception check on 'MLIAPPY_unload_model' will always require the GIL to be acquired.\n",
            "Possible solutions:\n",
            "\t1. Declare 'MLIAPPY_unload_model' as 'noexcept' if you control the definition and you're sure you don't want the function to raise exceptions.\n",
            "\t2. Use an 'int' return type on 'MLIAPPY_unload_model' to allow an error code to be returned.\n",
            "performance hint: mliap_model_python_couple.pyx:103:5: Exception check on 'MLIAPPY_compute_gradients' will always require the GIL to be acquired.\n",
            "Possible solutions:\n",
            "\t1. Declare 'MLIAPPY_compute_gradients' as 'noexcept' if you control the definition and you're sure you don't want the function to raise exceptions.\n",
            "\t2. Use an 'int' return type on 'MLIAPPY_compute_gradients' to allow an error code to be returned.\n",
            "performance hint: mliap_unified_couple.pyx:338:5: Exception check on 'compute_gradients_python' will always require the GIL to be acquired.\n",
            "Possible solutions:\n",
            "\t1. Declare 'compute_gradients_python' as 'noexcept' if you control the definition and you're sure you don't want the function to raise exceptions.\n",
            "\t2. Use an 'int' return type on 'compute_gradients_python' to allow an error code to be returned.\n",
            "performance hint: mliap_unified_couple.pyx:344:5: Exception check on 'compute_descriptors_python' will always require the GIL to be acquired.\n",
            "Possible solutions:\n",
            "\t1. Declare 'compute_descriptors_python' as 'noexcept' if you control the definition and you're sure you don't want the function to raise exceptions.\n",
            "\t2. Use an 'int' return type on 'compute_descriptors_python' to allow an error code to be returned.\n",
            "performance hint: mliap_unified_couple.pyx:350:5: Exception check on 'compute_forces_python' will always require the GIL to be acquired.\n",
            "Possible solutions:\n",
            "\t1. Declare 'compute_forces_python' as 'noexcept' if you control the definition and you're sure you don't want the function to raise exceptions.\n",
            "\t2. Use an 'int' return type on 'compute_forces_python' to allow an error code to be returned.\n",
            "[ 19%] \u001b[32mBuilding CXX object CMakeFiles/lammps.dir/content/lammps/src/angle.cpp.o\u001b[0m\n",
            "[ 19%] \u001b[32mBuilding CXX object CMakeFiles/lammps.dir/content/lammps/src/angle_deprecated.cpp.o\u001b[0m\n",
            "[ 19%] \u001b[32mBuilding CXX object CMakeFiles/lammps.dir/content/lammps/src/angle_hybrid.cpp.o\u001b[0m\n",
            "[ 19%] \u001b[32mBuilding CXX object CMakeFiles/lammps.dir/content/lammps/src/angle_write.cpp.o\u001b[0m\n",
            "\u001b[01m\u001b[K/content/lammps/src/angle_write.cpp:\u001b[m\u001b[K In member function ‘\u001b[01m\u001b[Kvirtual void LAMMPS_NS::AngleWrite::command(int, char**)\u001b[m\u001b[K’:\n",
            "\u001b[01m\u001b[K/content/lammps/src/angle_write.cpp:152:12:\u001b[m\u001b[K \u001b[01;35m\u001b[Kwarning: \u001b[m\u001b[Kignoring return value of ‘\u001b[01m\u001b[Kchar* fgets(char*, int, FILE*)\u001b[m\u001b[K’ declared with attribute ‘\u001b[01m\u001b[Kwarn_unused_result\u001b[m\u001b[K’ [\u001b[01;35m\u001b[K\u001b]8;;https://gcc.gnu.org/onlinedocs/gcc/Warning-Options.html#index-Wunused-result\u0007-Wunused-result\u001b]8;;\u0007\u001b[m\u001b[K]\n",
            "  152 |       \u001b[01;35m\u001b[Kfgets(line, MAXLINE, coeffs)\u001b[m\u001b[K;\n",
            "      |       \u001b[01;35m\u001b[K~~~~~^~~~~~~~~~~~~~~~~~~~~~~\u001b[m\u001b[K\n",
            "[ 20%] \u001b[32mBuilding CXX object CMakeFiles/lammps.dir/content/lammps/src/angle_zero.cpp.o\u001b[0m\n",
            "[ 20%] \u001b[32mBuilding CXX object CMakeFiles/lammps.dir/content/lammps/src/arg_info.cpp.o\u001b[0m\n",
            "[ 20%] \u001b[32mBuilding CXX object CMakeFiles/lammps.dir/content/lammps/src/atom.cpp.o\u001b[0m\n",
            "[ 20%] \u001b[32mBuilding CXX object CMakeFiles/lammps.dir/content/lammps/src/atom_map.cpp.o\u001b[0m\n",
            "[ 20%] \u001b[32mBuilding CXX object CMakeFiles/lammps.dir/content/lammps/src/atom_vec.cpp.o\u001b[0m\n",
            "In file included from \u001b[01m\u001b[K/usr/include/string.h:535\u001b[m\u001b[K,\n",
            "                 from \u001b[01m\u001b[K/usr/include/c++/11/cstring:42\u001b[m\u001b[K,\n",
            "                 from \u001b[01m\u001b[K/content/lammps/src/fmt/format.h:38\u001b[m\u001b[K,\n",
            "                 from \u001b[01m\u001b[K/content/lammps/src/pointers.h:33\u001b[m\u001b[K,\n",
            "                 from \u001b[01m\u001b[K/content/lammps/src/atom_vec.h:17\u001b[m\u001b[K,\n",
            "                 from \u001b[01m\u001b[K/content/lammps/src/atom_vec.cpp:14\u001b[m\u001b[K:\n",
            "In function ‘\u001b[01m\u001b[Kvoid* memcpy(void*, const void*, size_t)\u001b[m\u001b[K’,\n",
            "    inlined from ‘\u001b[01m\u001b[Kvirtual void LAMMPS_NS::AtomVec::write_data_restricted_to_general()\u001b[m\u001b[K’ at \u001b[01m\u001b[K/content/lammps/src/atom_vec.cpp:2272:21\u001b[m\u001b[K:\n",
            "\u001b[01m\u001b[K/usr/include/x86_64-linux-gnu/bits/string_fortified.h:29:33:\u001b[m\u001b[K \u001b[01;35m\u001b[Kwarning: \u001b[m\u001b[K‘\u001b[01m\u001b[Kvoid* __builtin_memcpy(void*, const void*, long unsigned int)\u001b[m\u001b[K’ specified bound between 18446744056529682432 and 18446744073709551592 exceeds maximum object size 9223372036854775807 [\u001b[01;35m\u001b[K\u001b]8;;https://gcc.gnu.org/onlinedocs/gcc/Warning-Options.html#index-Wstringop-overflow=\u0007-Wstringop-overflow=\u001b]8;;\u0007\u001b[m\u001b[K]\n",
            "   29 |   return \u001b[01;35m\u001b[K__builtin___memcpy_chk (__dest, __src, __len,\u001b[m\u001b[K\n",
            "      |          \u001b[01;35m\u001b[K~~~~~~~~~~~~~~~~~~~~~~~^~~~~~~~~~~~~~~~~~~~~~\u001b[m\u001b[K\n",
            "   30 | \u001b[01;35m\u001b[K                                 __glibc_objsize0 (__dest))\u001b[m\u001b[K;\n",
            "      |                                  \u001b[01;35m\u001b[K~~~~~~~~~~~~~~~~~~~~~~~~~~\u001b[m\u001b[K\n",
            "[ 21%] \u001b[32mBuilding CXX object CMakeFiles/lammps.dir/content/lammps/src/atom_vec_atomic.cpp.o\u001b[0m\n",
            "[ 21%] \u001b[32mBuilding CXX object CMakeFiles/lammps.dir/content/lammps/src/atom_vec_body.cpp.o\u001b[0m\n",
            "[ 21%] \u001b[32mBuilding CXX object CMakeFiles/lammps.dir/content/lammps/src/atom_vec_charge.cpp.o\u001b[0m\n",
            "[ 21%] \u001b[32mBuilding CXX object CMakeFiles/lammps.dir/content/lammps/src/atom_vec_ellipsoid.cpp.o\u001b[0m\n",
            "[ 21%] \u001b[32mBuilding CXX object CMakeFiles/lammps.dir/content/lammps/src/atom_vec_hybrid.cpp.o\u001b[0m\n",
            "[ 22%] \u001b[32mBuilding CXX object CMakeFiles/lammps.dir/content/lammps/src/atom_vec_line.cpp.o\u001b[0m\n",
            "[ 22%] \u001b[32mBuilding CXX object CMakeFiles/lammps.dir/content/lammps/src/atom_vec_sphere.cpp.o\u001b[0m\n",
            "[ 22%] \u001b[32mBuilding CXX object CMakeFiles/lammps.dir/content/lammps/src/atom_vec_tri.cpp.o\u001b[0m\n",
            "[ 22%] \u001b[32mBuilding CXX object CMakeFiles/lammps.dir/content/lammps/src/balance.cpp.o\u001b[0m\n",
            "[ 22%] \u001b[32mBuilding CXX object CMakeFiles/lammps.dir/content/lammps/src/body.cpp.o\u001b[0m\n",
            "[ 23%] \u001b[32mBuilding CXX object CMakeFiles/lammps.dir/content/lammps/src/bond.cpp.o\u001b[0m\n",
            "[ 23%] \u001b[32mBuilding CXX object CMakeFiles/lammps.dir/content/lammps/src/bond_deprecated.cpp.o\u001b[0m\n",
            "[ 23%] \u001b[32mBuilding CXX object CMakeFiles/lammps.dir/content/lammps/src/bond_hybrid.cpp.o\u001b[0m\n",
            "[ 23%] \u001b[32mBuilding CXX object CMakeFiles/lammps.dir/content/lammps/src/bond_zero.cpp.o\u001b[0m\n",
            "[ 23%] \u001b[32mBuilding CXX object CMakeFiles/lammps.dir/content/lammps/src/change_box.cpp.o\u001b[0m\n",
            "[ 23%] \u001b[32mBuilding CXX object CMakeFiles/lammps.dir/content/lammps/src/citeme.cpp.o\u001b[0m\n",
            "[ 24%] \u001b[32mBuilding CXX object CMakeFiles/lammps.dir/content/lammps/src/comm.cpp.o\u001b[0m\n",
            "[ 24%] \u001b[32mBuilding CXX object CMakeFiles/lammps.dir/content/lammps/src/comm_brick.cpp.o\u001b[0m\n",
            "[ 24%] \u001b[32mBuilding CXX object CMakeFiles/lammps.dir/content/lammps/src/comm_tiled.cpp.o\u001b[0m\n",
            "[ 24%] \u001b[32mBuilding CXX object CMakeFiles/lammps.dir/content/lammps/src/compute.cpp.o\u001b[0m\n",
            "[ 24%] \u001b[32mBuilding CXX object CMakeFiles/lammps.dir/content/lammps/src/compute_aggregate_atom.cpp.o\u001b[0m\n",
            "[ 25%] \u001b[32mBuilding CXX object CMakeFiles/lammps.dir/content/lammps/src/compute_angle.cpp.o\u001b[0m\n",
            "[ 25%] \u001b[32mBuilding CXX object CMakeFiles/lammps.dir/content/lammps/src/compute_angle_local.cpp.o\u001b[0m\n",
            "[ 25%] \u001b[32mBuilding CXX object CMakeFiles/lammps.dir/content/lammps/src/compute_angmom_chunk.cpp.o\u001b[0m\n",
            "[ 25%] \u001b[32mBuilding CXX object CMakeFiles/lammps.dir/content/lammps/src/compute_bond.cpp.o\u001b[0m\n",
            "[ 25%] \u001b[32mBuilding CXX object CMakeFiles/lammps.dir/content/lammps/src/compute_bond_local.cpp.o\u001b[0m\n",
            "[ 26%] \u001b[32mBuilding CXX object CMakeFiles/lammps.dir/content/lammps/src/compute_centro_atom.cpp.o\u001b[0m\n",
            "[ 26%] \u001b[32mBuilding CXX object CMakeFiles/lammps.dir/content/lammps/src/compute_centroid_stress_atom.cpp.o\u001b[0m\n",
            "[ 26%] \u001b[32mBuilding CXX object CMakeFiles/lammps.dir/content/lammps/src/compute_chunk.cpp.o\u001b[0m\n",
            "[ 26%] \u001b[32mBuilding CXX object CMakeFiles/lammps.dir/content/lammps/src/compute_chunk_atom.cpp.o\u001b[0m\n",
            "[ 26%] \u001b[32mBuilding CXX object CMakeFiles/lammps.dir/content/lammps/src/compute_chunk_spread_atom.cpp.o\u001b[0m\n",
            "[ 27%] \u001b[32mBuilding CXX object CMakeFiles/lammps.dir/content/lammps/src/compute_cluster_atom.cpp.o\u001b[0m\n",
            "[ 27%] \u001b[32mBuilding CXX object CMakeFiles/lammps.dir/content/lammps/src/compute_cna_atom.cpp.o\u001b[0m\n",
            "[ 27%] \u001b[32mBuilding CXX object CMakeFiles/lammps.dir/content/lammps/src/compute_com.cpp.o\u001b[0m\n",
            "[ 27%] \u001b[32mBuilding CXX object CMakeFiles/lammps.dir/content/lammps/src/compute_com_chunk.cpp.o\u001b[0m\n",
            "[ 27%] \u001b[32mBuilding CXX object CMakeFiles/lammps.dir/content/lammps/src/compute_coord_atom.cpp.o\u001b[0m\n",
            "[ 28%] \u001b[32mBuilding CXX object CMakeFiles/lammps.dir/content/lammps/src/compute_count_type.cpp.o\u001b[0m\n",
            "[ 28%] \u001b[32mBuilding CXX object CMakeFiles/lammps.dir/content/lammps/src/compute_deprecated.cpp.o\u001b[0m\n",
            "[ 28%] \u001b[32mBuilding CXX object CMakeFiles/lammps.dir/content/lammps/src/compute_dihedral.cpp.o\u001b[0m\n",
            "[ 28%] \u001b[32mBuilding CXX object CMakeFiles/lammps.dir/content/lammps/src/compute_dihedral_local.cpp.o\u001b[0m\n",
            "[ 28%] \u001b[32mBuilding CXX object CMakeFiles/lammps.dir/content/lammps/src/compute_dipole.cpp.o\u001b[0m\n",
            "[ 29%] \u001b[32mBuilding CXX object CMakeFiles/lammps.dir/content/lammps/src/compute_dipole_chunk.cpp.o\u001b[0m\n",
            "[ 29%] \u001b[32mBuilding CXX object CMakeFiles/lammps.dir/content/lammps/src/compute_displace_atom.cpp.o\u001b[0m\n",
            "[ 29%] \u001b[32mBuilding CXX object CMakeFiles/lammps.dir/content/lammps/src/compute_erotate_sphere.cpp.o\u001b[0m\n",
            "[ 29%] \u001b[32mBuilding CXX object CMakeFiles/lammps.dir/content/lammps/src/compute_erotate_sphere_atom.cpp.o\u001b[0m\n",
            "[ 29%] \u001b[32mBuilding CXX object CMakeFiles/lammps.dir/content/lammps/src/compute_fragment_atom.cpp.o\u001b[0m\n",
            "[ 30%] \u001b[32mBuilding CXX object CMakeFiles/lammps.dir/content/lammps/src/compute_global_atom.cpp.o\u001b[0m\n",
            "[ 30%] \u001b[32mBuilding CXX object CMakeFiles/lammps.dir/content/lammps/src/compute_group_group.cpp.o\u001b[0m\n",
            "[ 30%] \u001b[32mBuilding CXX object CMakeFiles/lammps.dir/content/lammps/src/compute_gyration.cpp.o\u001b[0m\n",
            "[ 30%] \u001b[32mBuilding CXX object CMakeFiles/lammps.dir/content/lammps/src/compute_gyration_chunk.cpp.o\u001b[0m\n",
            "[ 30%] \u001b[32mBuilding CXX object CMakeFiles/lammps.dir/content/lammps/src/compute_heat_flux.cpp.o\u001b[0m\n",
            "[ 31%] \u001b[32mBuilding CXX object CMakeFiles/lammps.dir/content/lammps/src/compute_improper.cpp.o\u001b[0m\n",
            "[ 31%] \u001b[32mBuilding CXX object CMakeFiles/lammps.dir/content/lammps/src/compute_improper_local.cpp.o\u001b[0m\n",
            "[ 31%] \u001b[32mBuilding CXX object CMakeFiles/lammps.dir/content/lammps/src/compute_inertia_chunk.cpp.o\u001b[0m\n",
            "[ 31%] \u001b[32mBuilding CXX object CMakeFiles/lammps.dir/content/lammps/src/compute_ke.cpp.o\u001b[0m\n",
            "[ 31%] \u001b[32mBuilding CXX object CMakeFiles/lammps.dir/content/lammps/src/compute_ke_atom.cpp.o\u001b[0m\n",
            "[ 32%] \u001b[32mBuilding CXX object CMakeFiles/lammps.dir/content/lammps/src/compute_msd.cpp.o\u001b[0m\n",
            "[ 32%] \u001b[32mBuilding CXX object CMakeFiles/lammps.dir/content/lammps/src/compute_msd_chunk.cpp.o\u001b[0m\n",
            "[ 32%] \u001b[32mBuilding CXX object CMakeFiles/lammps.dir/content/lammps/src/compute_omega_chunk.cpp.o\u001b[0m\n",
            "[ 32%] \u001b[32mBuilding CXX object CMakeFiles/lammps.dir/content/lammps/src/compute_orientorder_atom.cpp.o\u001b[0m\n",
            "[ 32%] \u001b[32mBuilding CXX object CMakeFiles/lammps.dir/content/lammps/src/compute_pair.cpp.o\u001b[0m\n",
            "[ 33%] \u001b[32mBuilding CXX object CMakeFiles/lammps.dir/content/lammps/src/compute_pair_local.cpp.o\u001b[0m\n",
            "[ 33%] \u001b[32mBuilding CXX object CMakeFiles/lammps.dir/content/lammps/src/compute_pe.cpp.o\u001b[0m\n",
            "[ 33%] \u001b[32mBuilding CXX object CMakeFiles/lammps.dir/content/lammps/src/compute_pe_atom.cpp.o\u001b[0m\n",
            "[ 33%] \u001b[32mBuilding CXX object CMakeFiles/lammps.dir/content/lammps/src/compute_pressure.cpp.o\u001b[0m\n",
            "[ 33%] \u001b[32mBuilding CXX object CMakeFiles/lammps.dir/content/lammps/src/compute_property_atom.cpp.o\u001b[0m\n",
            "[ 33%] \u001b[32mBuilding CXX object CMakeFiles/lammps.dir/content/lammps/src/compute_property_chunk.cpp.o\u001b[0m\n",
            "[ 34%] \u001b[32mBuilding CXX object CMakeFiles/lammps.dir/content/lammps/src/compute_property_grid.cpp.o\u001b[0m\n",
            "[ 34%] \u001b[32mBuilding CXX object CMakeFiles/lammps.dir/content/lammps/src/compute_property_local.cpp.o\u001b[0m\n",
            "[ 34%] \u001b[32mBuilding CXX object CMakeFiles/lammps.dir/content/lammps/src/compute_rdf.cpp.o\u001b[0m\n",
            "[ 34%] \u001b[32mBuilding CXX object CMakeFiles/lammps.dir/content/lammps/src/compute_reduce.cpp.o\u001b[0m\n",
            "[ 34%] \u001b[32mBuilding CXX object CMakeFiles/lammps.dir/content/lammps/src/compute_reduce_chunk.cpp.o\u001b[0m\n",
            "[ 35%] \u001b[32mBuilding CXX object CMakeFiles/lammps.dir/content/lammps/src/compute_reduce_region.cpp.o\u001b[0m\n",
            "[ 35%] \u001b[32mBuilding CXX object CMakeFiles/lammps.dir/content/lammps/src/compute_slice.cpp.o\u001b[0m\n",
            "[ 35%] \u001b[32mBuilding CXX object CMakeFiles/lammps.dir/content/lammps/src/compute_stress_atom.cpp.o\u001b[0m\n",
            "[ 35%] \u001b[32mBuilding CXX object CMakeFiles/lammps.dir/content/lammps/src/compute_temp.cpp.o\u001b[0m\n",
            "[ 35%] \u001b[32mBuilding CXX object CMakeFiles/lammps.dir/content/lammps/src/compute_temp_chunk.cpp.o\u001b[0m\n",
            "[ 36%] \u001b[32mBuilding CXX object CMakeFiles/lammps.dir/content/lammps/src/compute_temp_com.cpp.o\u001b[0m\n",
            "[ 36%] \u001b[32mBuilding CXX object CMakeFiles/lammps.dir/content/lammps/src/compute_temp_deform.cpp.o\u001b[0m\n",
            "[ 36%] \u001b[32mBuilding CXX object CMakeFiles/lammps.dir/content/lammps/src/compute_temp_partial.cpp.o\u001b[0m\n",
            "[ 36%] \u001b[32mBuilding CXX object CMakeFiles/lammps.dir/content/lammps/src/compute_temp_profile.cpp.o\u001b[0m\n",
            "[ 36%] \u001b[32mBuilding CXX object CMakeFiles/lammps.dir/content/lammps/src/compute_temp_ramp.cpp.o\u001b[0m\n",
            "[ 37%] \u001b[32mBuilding CXX object CMakeFiles/lammps.dir/content/lammps/src/compute_temp_region.cpp.o\u001b[0m\n",
            "[ 37%] \u001b[32mBuilding CXX object CMakeFiles/lammps.dir/content/lammps/src/compute_temp_sphere.cpp.o\u001b[0m\n",
            "[ 37%] \u001b[32mBuilding CXX object CMakeFiles/lammps.dir/content/lammps/src/compute_torque_chunk.cpp.o\u001b[0m\n",
            "[ 37%] \u001b[32mBuilding CXX object CMakeFiles/lammps.dir/content/lammps/src/compute_vacf.cpp.o\u001b[0m\n",
            "[ 37%] \u001b[32mBuilding CXX object CMakeFiles/lammps.dir/content/lammps/src/compute_vcm_chunk.cpp.o\u001b[0m\n",
            "[ 38%] \u001b[32mBuilding CXX object CMakeFiles/lammps.dir/content/lammps/src/create_atoms.cpp.o\u001b[0m\n",
            "[ 38%] \u001b[32mBuilding CXX object CMakeFiles/lammps.dir/content/lammps/src/create_bonds.cpp.o\u001b[0m\n",
            "[ 38%] \u001b[32mBuilding CXX object CMakeFiles/lammps.dir/content/lammps/src/create_box.cpp.o\u001b[0m\n",
            "[ 38%] \u001b[32mBuilding CXX object CMakeFiles/lammps.dir/content/lammps/src/delete_atoms.cpp.o\u001b[0m\n",
            "[ 38%] \u001b[32mBuilding CXX object CMakeFiles/lammps.dir/content/lammps/src/delete_bonds.cpp.o\u001b[0m\n",
            "[ 39%] \u001b[32mBuilding CXX object CMakeFiles/lammps.dir/content/lammps/src/deprecated.cpp.o\u001b[0m\n",
            "[ 39%] \u001b[32mBuilding CXX object CMakeFiles/lammps.dir/content/lammps/src/dihedral.cpp.o\u001b[0m\n",
            "[ 39%] \u001b[32mBuilding CXX object CMakeFiles/lammps.dir/content/lammps/src/dihedral_deprecated.cpp.o\u001b[0m\n",
            "[ 39%] \u001b[32mBuilding CXX object CMakeFiles/lammps.dir/content/lammps/src/dihedral_hybrid.cpp.o\u001b[0m\n",
            "[ 39%] \u001b[32mBuilding CXX object CMakeFiles/lammps.dir/content/lammps/src/dihedral_write.cpp.o\u001b[0m\n",
            "\u001b[01m\u001b[K/content/lammps/src/dihedral_write.cpp:\u001b[m\u001b[K In member function ‘\u001b[01m\u001b[Kvirtual void LAMMPS_NS::DihedralWrite::command(int, char**)\u001b[m\u001b[K’:\n",
            "\u001b[01m\u001b[K/content/lammps/src/dihedral_write.cpp:153:12:\u001b[m\u001b[K \u001b[01;35m\u001b[Kwarning: \u001b[m\u001b[Kignoring return value of ‘\u001b[01m\u001b[Kchar* fgets(char*, int, FILE*)\u001b[m\u001b[K’ declared with attribute ‘\u001b[01m\u001b[Kwarn_unused_result\u001b[m\u001b[K’ [\u001b[01;35m\u001b[K\u001b]8;;https://gcc.gnu.org/onlinedocs/gcc/Warning-Options.html#index-Wunused-result\u0007-Wunused-result\u001b]8;;\u0007\u001b[m\u001b[K]\n",
            "  153 |       \u001b[01;35m\u001b[Kfgets(line, MAXLINE, coeffs)\u001b[m\u001b[K;\n",
            "      |       \u001b[01;35m\u001b[K~~~~~^~~~~~~~~~~~~~~~~~~~~~~\u001b[m\u001b[K\n",
            "[ 40%] \u001b[32mBuilding CXX object CMakeFiles/lammps.dir/content/lammps/src/dihedral_zero.cpp.o\u001b[0m\n",
            "[ 40%] \u001b[32mBuilding CXX object CMakeFiles/lammps.dir/content/lammps/src/displace_atoms.cpp.o\u001b[0m\n",
            "[ 40%] \u001b[32mBuilding CXX object CMakeFiles/lammps.dir/content/lammps/src/domain.cpp.o\u001b[0m\n",
            "[ 40%] \u001b[32mBuilding CXX object CMakeFiles/lammps.dir/content/lammps/src/dump.cpp.o\u001b[0m\n",
            "[ 40%] \u001b[32mBuilding CXX object CMakeFiles/lammps.dir/content/lammps/src/dump_atom.cpp.o\u001b[0m\n",
            "[ 41%] \u001b[32mBuilding CXX object CMakeFiles/lammps.dir/content/lammps/src/dump_cfg.cpp.o\u001b[0m\n",
            "[ 41%] \u001b[32mBuilding CXX object CMakeFiles/lammps.dir/content/lammps/src/dump_custom.cpp.o\u001b[0m\n",
            "[ 41%] \u001b[32mBuilding CXX object CMakeFiles/lammps.dir/content/lammps/src/dump_deprecated.cpp.o\u001b[0m\n",
            "[ 41%] \u001b[32mBuilding CXX object CMakeFiles/lammps.dir/content/lammps/src/dump_grid.cpp.o\u001b[0m\n",
            "[ 41%] \u001b[32mBuilding CXX object CMakeFiles/lammps.dir/content/lammps/src/dump_grid_vtk.cpp.o\u001b[0m\n",
            "[ 42%] \u001b[32mBuilding CXX object CMakeFiles/lammps.dir/content/lammps/src/dump_image.cpp.o\u001b[0m\n",
            "[ 42%] \u001b[32mBuilding CXX object CMakeFiles/lammps.dir/content/lammps/src/dump_local.cpp.o\u001b[0m\n",
            "[ 42%] \u001b[32mBuilding CXX object CMakeFiles/lammps.dir/content/lammps/src/dump_movie.cpp.o\u001b[0m\n",
            "[ 42%] \u001b[32mBuilding CXX object CMakeFiles/lammps.dir/content/lammps/src/dump_xyz.cpp.o\u001b[0m\n",
            "[ 42%] \u001b[32mBuilding CXX object CMakeFiles/lammps.dir/content/lammps/src/error.cpp.o\u001b[0m\n",
            "[ 43%] \u001b[32mBuilding CXX object CMakeFiles/lammps.dir/content/lammps/src/finish.cpp.o\u001b[0m\n",
            "[ 43%] \u001b[32mBuilding CXX object CMakeFiles/lammps.dir/content/lammps/src/fix.cpp.o\u001b[0m\n",
            "[ 43%] \u001b[32mBuilding CXX object CMakeFiles/lammps.dir/content/lammps/src/fix_adapt.cpp.o\u001b[0m\n",
            "[ 43%] \u001b[32mBuilding CXX object CMakeFiles/lammps.dir/content/lammps/src/fix_addforce.cpp.o\u001b[0m\n",
            "[ 43%] \u001b[32mBuilding CXX object CMakeFiles/lammps.dir/content/lammps/src/fix_ave_atom.cpp.o\u001b[0m\n",
            "[ 43%] \u001b[32mBuilding CXX object CMakeFiles/lammps.dir/content/lammps/src/fix_ave_chunk.cpp.o\u001b[0m\n",
            "[ 44%] \u001b[32mBuilding CXX object CMakeFiles/lammps.dir/content/lammps/src/fix_ave_correlate.cpp.o\u001b[0m\n",
            "[ 44%] \u001b[32mBuilding CXX object CMakeFiles/lammps.dir/content/lammps/src/fix_ave_grid.cpp.o\u001b[0m\n",
            "[ 44%] \u001b[32mBuilding CXX object CMakeFiles/lammps.dir/content/lammps/src/fix_ave_histo.cpp.o\u001b[0m\n",
            "[ 44%] \u001b[32mBuilding CXX object CMakeFiles/lammps.dir/content/lammps/src/fix_ave_histo_weight.cpp.o\u001b[0m\n",
            "[ 44%] \u001b[32mBuilding CXX object CMakeFiles/lammps.dir/content/lammps/src/fix_ave_time.cpp.o\u001b[0m\n",
            "[ 45%] \u001b[32mBuilding CXX object CMakeFiles/lammps.dir/content/lammps/src/fix_aveforce.cpp.o\u001b[0m\n",
            "[ 45%] \u001b[32mBuilding CXX object CMakeFiles/lammps.dir/content/lammps/src/fix_balance.cpp.o\u001b[0m\n",
            "[ 45%] \u001b[32mBuilding CXX object CMakeFiles/lammps.dir/content/lammps/src/fix_bond_history.cpp.o\u001b[0m\n",
            "[ 45%] \u001b[32mBuilding CXX object CMakeFiles/lammps.dir/content/lammps/src/fix_box_relax.cpp.o\u001b[0m\n",
            "[ 45%] \u001b[32mBuilding CXX object CMakeFiles/lammps.dir/content/lammps/src/fix_deform.cpp.o\u001b[0m\n",
            "[ 46%] \u001b[32mBuilding CXX object CMakeFiles/lammps.dir/content/lammps/src/fix_deposit.cpp.o\u001b[0m\n",
            "[ 46%] \u001b[32mBuilding CXX object CMakeFiles/lammps.dir/content/lammps/src/fix_deprecated.cpp.o\u001b[0m\n",
            "[ 46%] \u001b[32mBuilding CXX object CMakeFiles/lammps.dir/content/lammps/src/fix_dt_reset.cpp.o\u001b[0m\n",
            "[ 46%] \u001b[32mBuilding CXX object CMakeFiles/lammps.dir/content/lammps/src/fix_dummy.cpp.o\u001b[0m\n",
            "[ 46%] \u001b[32mBuilding CXX object CMakeFiles/lammps.dir/content/lammps/src/fix_efield.cpp.o\u001b[0m\n",
            "[ 47%] \u001b[32mBuilding CXX object CMakeFiles/lammps.dir/content/lammps/src/fix_enforce2d.cpp.o\u001b[0m\n",
            "[ 47%] \u001b[32mBuilding CXX object CMakeFiles/lammps.dir/content/lammps/src/fix_evaporate.cpp.o\u001b[0m\n",
            "[ 47%] \u001b[32mBuilding CXX object CMakeFiles/lammps.dir/content/lammps/src/fix_external.cpp.o\u001b[0m\n",
            "[ 47%] \u001b[32mBuilding CXX object CMakeFiles/lammps.dir/content/lammps/src/fix_gravity.cpp.o\u001b[0m\n",
            "[ 47%] \u001b[32mBuilding CXX object CMakeFiles/lammps.dir/content/lammps/src/fix_group.cpp.o\u001b[0m\n",
            "[ 48%] \u001b[32mBuilding CXX object CMakeFiles/lammps.dir/content/lammps/src/fix_halt.cpp.o\u001b[0m\n",
            "[ 48%] \u001b[32mBuilding CXX object CMakeFiles/lammps.dir/content/lammps/src/fix_heat.cpp.o\u001b[0m\n",
            "[ 48%] \u001b[32mBuilding CXX object CMakeFiles/lammps.dir/content/lammps/src/fix_indent.cpp.o\u001b[0m\n",
            "[ 48%] \u001b[32mBuilding CXX object CMakeFiles/lammps.dir/content/lammps/src/fix_langevin.cpp.o\u001b[0m\n",
            "[ 48%] \u001b[32mBuilding CXX object CMakeFiles/lammps.dir/content/lammps/src/fix_lineforce.cpp.o\u001b[0m\n",
            "[ 49%] \u001b[32mBuilding CXX object CMakeFiles/lammps.dir/content/lammps/src/fix_minimize.cpp.o\u001b[0m\n",
            "[ 49%] \u001b[32mBuilding CXX object CMakeFiles/lammps.dir/content/lammps/src/fix_momentum.cpp.o\u001b[0m\n",
            "[ 49%] \u001b[32mBuilding CXX object CMakeFiles/lammps.dir/content/lammps/src/fix_move.cpp.o\u001b[0m\n",
            "[ 49%] \u001b[32mBuilding CXX object CMakeFiles/lammps.dir/content/lammps/src/fix_neigh_history.cpp.o\u001b[0m\n",
            "[ 49%] \u001b[32mBuilding CXX object CMakeFiles/lammps.dir/content/lammps/src/fix_nh.cpp.o\u001b[0m\n",
            "[ 50%] \u001b[32mBuilding CXX object CMakeFiles/lammps.dir/content/lammps/src/fix_nh_sphere.cpp.o\u001b[0m\n",
            "[ 50%] \u001b[32mBuilding CXX object CMakeFiles/lammps.dir/content/lammps/src/fix_nph.cpp.o\u001b[0m\n",
            "[ 50%] \u001b[32mBuilding CXX object CMakeFiles/lammps.dir/content/lammps/src/fix_nph_sphere.cpp.o\u001b[0m\n",
            "[ 50%] \u001b[32mBuilding CXX object CMakeFiles/lammps.dir/content/lammps/src/fix_npt.cpp.o\u001b[0m\n",
            "[ 50%] \u001b[32mBuilding CXX object CMakeFiles/lammps.dir/content/lammps/src/fix_npt_sphere.cpp.o\u001b[0m\n",
            "[ 51%] \u001b[32mBuilding CXX object CMakeFiles/lammps.dir/content/lammps/src/fix_nve.cpp.o\u001b[0m\n",
            "[ 51%] \u001b[32mBuilding CXX object CMakeFiles/lammps.dir/content/lammps/src/fix_nve_limit.cpp.o\u001b[0m\n",
            "[ 51%] \u001b[32mBuilding CXX object CMakeFiles/lammps.dir/content/lammps/src/fix_nve_noforce.cpp.o\u001b[0m\n",
            "[ 51%] \u001b[32mBuilding CXX object CMakeFiles/lammps.dir/content/lammps/src/fix_nve_sphere.cpp.o\u001b[0m\n",
            "[ 51%] \u001b[32mBuilding CXX object CMakeFiles/lammps.dir/content/lammps/src/fix_nvt.cpp.o\u001b[0m\n",
            "[ 52%] \u001b[32mBuilding CXX object CMakeFiles/lammps.dir/content/lammps/src/fix_nvt_sllod.cpp.o\u001b[0m\n",
            "[ 52%] \u001b[32mBuilding CXX object CMakeFiles/lammps.dir/content/lammps/src/fix_nvt_sphere.cpp.o\u001b[0m\n",
            "[ 52%] \u001b[32mBuilding CXX object CMakeFiles/lammps.dir/content/lammps/src/fix_pair.cpp.o\u001b[0m\n",
            "[ 52%] \u001b[32mBuilding CXX object CMakeFiles/lammps.dir/content/lammps/src/fix_planeforce.cpp.o\u001b[0m\n",
            "[ 52%] \u001b[32mBuilding CXX object CMakeFiles/lammps.dir/content/lammps/src/fix_press_berendsen.cpp.o\u001b[0m\n",
            "[ 53%] \u001b[32mBuilding CXX object CMakeFiles/lammps.dir/content/lammps/src/fix_press_langevin.cpp.o\u001b[0m\n",
            "[ 53%] \u001b[32mBuilding CXX object CMakeFiles/lammps.dir/content/lammps/src/fix_print.cpp.o\u001b[0m\n",
            "[ 53%] \u001b[32mBuilding CXX object CMakeFiles/lammps.dir/content/lammps/src/fix_property_atom.cpp.o\u001b[0m\n",
            "[ 53%] \u001b[32mBuilding CXX object CMakeFiles/lammps.dir/content/lammps/src/fix_read_restart.cpp.o\u001b[0m\n",
            "[ 53%] \u001b[32mBuilding CXX object CMakeFiles/lammps.dir/content/lammps/src/fix_recenter.cpp.o\u001b[0m\n",
            "[ 53%] \u001b[32mBuilding CXX object CMakeFiles/lammps.dir/content/lammps/src/fix_respa.cpp.o\u001b[0m\n",
            "[ 54%] \u001b[32mBuilding CXX object CMakeFiles/lammps.dir/content/lammps/src/fix_restrain.cpp.o\u001b[0m\n",
            "[ 54%] \u001b[32mBuilding CXX object CMakeFiles/lammps.dir/content/lammps/src/fix_setforce.cpp.o\u001b[0m\n",
            "[ 54%] \u001b[32mBuilding CXX object CMakeFiles/lammps.dir/content/lammps/src/fix_spring.cpp.o\u001b[0m\n",
            "[ 54%] \u001b[32mBuilding CXX object CMakeFiles/lammps.dir/content/lammps/src/fix_spring_chunk.cpp.o\u001b[0m\n",
            "[ 54%] \u001b[32mBuilding CXX object CMakeFiles/lammps.dir/content/lammps/src/fix_spring_self.cpp.o\u001b[0m\n",
            "[ 55%] \u001b[32mBuilding CXX object CMakeFiles/lammps.dir/content/lammps/src/fix_store_atom.cpp.o\u001b[0m\n",
            "[ 55%] \u001b[32mBuilding CXX object CMakeFiles/lammps.dir/content/lammps/src/fix_store_force.cpp.o\u001b[0m\n",
            "[ 55%] \u001b[32mBuilding CXX object CMakeFiles/lammps.dir/content/lammps/src/fix_store_global.cpp.o\u001b[0m\n",
            "[ 55%] \u001b[32mBuilding CXX object CMakeFiles/lammps.dir/content/lammps/src/fix_store_local.cpp.o\u001b[0m\n",
            "[ 55%] \u001b[32mBuilding CXX object CMakeFiles/lammps.dir/content/lammps/src/fix_store_state.cpp.o\u001b[0m\n",
            "[ 56%] \u001b[32mBuilding CXX object CMakeFiles/lammps.dir/content/lammps/src/fix_temp_berendsen.cpp.o\u001b[0m\n",
            "[ 56%] \u001b[32mBuilding CXX object CMakeFiles/lammps.dir/content/lammps/src/fix_temp_rescale.cpp.o\u001b[0m\n",
            "[ 56%] \u001b[32mBuilding CXX object CMakeFiles/lammps.dir/content/lammps/src/fix_thermal_conductivity.cpp.o\u001b[0m\n",
            "[ 56%] \u001b[32mBuilding CXX object CMakeFiles/lammps.dir/content/lammps/src/fix_vector.cpp.o\u001b[0m\n",
            "[ 56%] \u001b[32mBuilding CXX object CMakeFiles/lammps.dir/content/lammps/src/fix_viscous.cpp.o\u001b[0m\n",
            "[ 57%] \u001b[32mBuilding CXX object CMakeFiles/lammps.dir/content/lammps/src/fix_wall.cpp.o\u001b[0m\n",
            "[ 57%] \u001b[32mBuilding CXX object CMakeFiles/lammps.dir/content/lammps/src/fix_wall_harmonic.cpp.o\u001b[0m\n",
            "[ 57%] \u001b[32mBuilding CXX object CMakeFiles/lammps.dir/content/lammps/src/fix_wall_lj1043.cpp.o\u001b[0m\n",
            "[ 57%] \u001b[32mBuilding CXX object CMakeFiles/lammps.dir/content/lammps/src/fix_wall_lj126.cpp.o\u001b[0m\n",
            "[ 57%] \u001b[32mBuilding CXX object CMakeFiles/lammps.dir/content/lammps/src/fix_wall_lj93.cpp.o\u001b[0m\n",
            "[ 58%] \u001b[32mBuilding CXX object CMakeFiles/lammps.dir/content/lammps/src/fix_wall_morse.cpp.o\u001b[0m\n",
            "[ 58%] \u001b[32mBuilding CXX object CMakeFiles/lammps.dir/content/lammps/src/fix_wall_reflect.cpp.o\u001b[0m\n",
            "[ 58%] \u001b[32mBuilding CXX object CMakeFiles/lammps.dir/content/lammps/src/fix_wall_region.cpp.o\u001b[0m\n",
            "[ 58%] \u001b[32mBuilding CXX object CMakeFiles/lammps.dir/content/lammps/src/fix_wall_table.cpp.o\u001b[0m\n",
            "[ 58%] \u001b[32mBuilding CXX object CMakeFiles/lammps.dir/content/lammps/src/fmtlib_format.cpp.o\u001b[0m\n",
            "[ 59%] \u001b[32mBuilding CXX object CMakeFiles/lammps.dir/content/lammps/src/fmtlib_os.cpp.o\u001b[0m\n",
            "[ 59%] \u001b[32mBuilding CXX object CMakeFiles/lammps.dir/content/lammps/src/force.cpp.o\u001b[0m\n",
            "[ 59%] \u001b[32mBuilding CXX object CMakeFiles/lammps.dir/content/lammps/src/grid2d.cpp.o\u001b[0m\n",
            "[ 59%] \u001b[32mBuilding CXX object CMakeFiles/lammps.dir/content/lammps/src/grid3d.cpp.o\u001b[0m\n",
            "[ 59%] \u001b[32mBuilding CXX object CMakeFiles/lammps.dir/content/lammps/src/group.cpp.o\u001b[0m\n",
            "[ 60%] \u001b[32mBuilding CXX object CMakeFiles/lammps.dir/content/lammps/src/hashlittle.cpp.o\u001b[0m\n",
            "[ 60%] \u001b[32mBuilding CXX object CMakeFiles/lammps.dir/content/lammps/src/image.cpp.o\u001b[0m\n",
            "[ 60%] \u001b[32mBuilding CXX object CMakeFiles/lammps.dir/content/lammps/src/imbalance.cpp.o\u001b[0m\n",
            "[ 60%] \u001b[32mBuilding CXX object CMakeFiles/lammps.dir/content/lammps/src/imbalance_group.cpp.o\u001b[0m\n",
            "[ 60%] \u001b[32mBuilding CXX object CMakeFiles/lammps.dir/content/lammps/src/imbalance_neigh.cpp.o\u001b[0m\n",
            "[ 61%] \u001b[32mBuilding CXX object CMakeFiles/lammps.dir/content/lammps/src/imbalance_store.cpp.o\u001b[0m\n",
            "[ 61%] \u001b[32mBuilding CXX object CMakeFiles/lammps.dir/content/lammps/src/imbalance_time.cpp.o\u001b[0m\n",
            "[ 61%] \u001b[32mBuilding CXX object CMakeFiles/lammps.dir/content/lammps/src/imbalance_var.cpp.o\u001b[0m\n",
            "[ 61%] \u001b[32mBuilding CXX object CMakeFiles/lammps.dir/content/lammps/src/improper.cpp.o\u001b[0m\n",
            "[ 61%] \u001b[32mBuilding CXX object CMakeFiles/lammps.dir/content/lammps/src/improper_deprecated.cpp.o\u001b[0m\n",
            "[ 62%] \u001b[32mBuilding CXX object CMakeFiles/lammps.dir/content/lammps/src/improper_hybrid.cpp.o\u001b[0m\n",
            "[ 62%] \u001b[32mBuilding CXX object CMakeFiles/lammps.dir/content/lammps/src/improper_zero.cpp.o\u001b[0m\n",
            "[ 62%] \u001b[32mBuilding CXX object CMakeFiles/lammps.dir/content/lammps/src/info.cpp.o\u001b[0m\n",
            "[ 62%] \u001b[32mBuilding CXX object CMakeFiles/lammps.dir/content/lammps/src/input.cpp.o\u001b[0m\n",
            "[ 62%] \u001b[32mBuilding CXX object CMakeFiles/lammps.dir/content/lammps/src/integrate.cpp.o\u001b[0m\n",
            "[ 63%] \u001b[32mBuilding CXX object CMakeFiles/lammps.dir/content/lammps/src/irregular.cpp.o\u001b[0m\n",
            "[ 63%] \u001b[32mBuilding CXX object CMakeFiles/lammps.dir/content/lammps/src/kspace.cpp.o\u001b[0m\n",
            "[ 63%] \u001b[32mBuilding CXX object CMakeFiles/lammps.dir/content/lammps/src/kspace_deprecated.cpp.o\u001b[0m\n",
            "[ 63%] \u001b[32mBuilding CXX object CMakeFiles/lammps.dir/content/lammps/src/label_map.cpp.o\u001b[0m\n",
            "[ 63%] \u001b[32mBuilding CXX object CMakeFiles/lammps.dir/content/lammps/src/lammps.cpp.o\u001b[0m\n",
            "[ 63%] \u001b[32mBuilding CXX object CMakeFiles/lammps.dir/content/lammps/src/lattice.cpp.o\u001b[0m\n",
            "[ 64%] \u001b[32mBuilding CXX object CMakeFiles/lammps.dir/content/lammps/src/library.cpp.o\u001b[0m\n",
            "[ 64%] \u001b[32mBuilding CXX object CMakeFiles/lammps.dir/content/lammps/src/lmppython.cpp.o\u001b[0m\n",
            "[ 64%] \u001b[32mBuilding CXX object CMakeFiles/lammps.dir/content/lammps/src/math_eigen.cpp.o\u001b[0m\n",
            "[ 64%] \u001b[32mBuilding CXX object CMakeFiles/lammps.dir/content/lammps/src/math_extra.cpp.o\u001b[0m\n",
            "[ 64%] \u001b[32mBuilding CXX object CMakeFiles/lammps.dir/content/lammps/src/math_special.cpp.o\u001b[0m\n",
            "[ 65%] \u001b[32mBuilding CXX object CMakeFiles/lammps.dir/content/lammps/src/memory.cpp.o\u001b[0m\n",
            "[ 65%] \u001b[32mBuilding CXX object CMakeFiles/lammps.dir/content/lammps/src/min.cpp.o\u001b[0m\n",
            "[ 65%] \u001b[32mBuilding CXX object CMakeFiles/lammps.dir/content/lammps/src/min_cg.cpp.o\u001b[0m\n",
            "[ 65%] \u001b[32mBuilding CXX object CMakeFiles/lammps.dir/content/lammps/src/min_deprecated.cpp.o\u001b[0m\n",
            "[ 65%] \u001b[32mBuilding CXX object CMakeFiles/lammps.dir/content/lammps/src/min_fire.cpp.o\u001b[0m\n",
            "[ 66%] \u001b[32mBuilding CXX object CMakeFiles/lammps.dir/content/lammps/src/min_hftn.cpp.o\u001b[0m\n",
            "[ 66%] \u001b[32mBuilding CXX object CMakeFiles/lammps.dir/content/lammps/src/min_linesearch.cpp.o\u001b[0m\n",
            "[ 66%] \u001b[32mBuilding CXX object CMakeFiles/lammps.dir/content/lammps/src/min_quickmin.cpp.o\u001b[0m\n",
            "[ 66%] \u001b[32mBuilding CXX object CMakeFiles/lammps.dir/content/lammps/src/min_sd.cpp.o\u001b[0m\n",
            "[ 66%] \u001b[32mBuilding CXX object CMakeFiles/lammps.dir/content/lammps/src/minimize.cpp.o\u001b[0m\n",
            "[ 67%] \u001b[32mBuilding CXX object CMakeFiles/lammps.dir/content/lammps/src/modify.cpp.o\u001b[0m\n",
            "[ 67%] \u001b[32mBuilding CXX object CMakeFiles/lammps.dir/content/lammps/src/molecule.cpp.o\u001b[0m\n",
            "[ 67%] \u001b[32mBuilding CXX object CMakeFiles/lammps.dir/content/lammps/src/my_page.cpp.o\u001b[0m\n",
            "[ 67%] \u001b[32mBuilding CXX object CMakeFiles/lammps.dir/content/lammps/src/my_pool_chunk.cpp.o\u001b[0m\n",
            "[ 67%] \u001b[32mBuilding CXX object CMakeFiles/lammps.dir/content/lammps/src/nbin.cpp.o\u001b[0m\n",
            "[ 68%] \u001b[32mBuilding CXX object CMakeFiles/lammps.dir/content/lammps/src/nbin_multi.cpp.o\u001b[0m\n",
            "[ 68%] \u001b[32mBuilding CXX object CMakeFiles/lammps.dir/content/lammps/src/nbin_standard.cpp.o\u001b[0m\n",
            "[ 68%] \u001b[32mBuilding CXX object CMakeFiles/lammps.dir/content/lammps/src/neigh_list.cpp.o\u001b[0m\n",
            "[ 68%] \u001b[32mBuilding CXX object CMakeFiles/lammps.dir/content/lammps/src/neigh_request.cpp.o\u001b[0m\n",
            "[ 68%] \u001b[32mBuilding CXX object CMakeFiles/lammps.dir/content/lammps/src/neighbor.cpp.o\u001b[0m\n",
            "[ 69%] \u001b[32mBuilding CXX object CMakeFiles/lammps.dir/content/lammps/src/npair.cpp.o\u001b[0m\n",
            "[ 69%] \u001b[32mBuilding CXX object CMakeFiles/lammps.dir/content/lammps/src/npair_bin.cpp.o\u001b[0m\n",
            "[ 69%] \u001b[32mBuilding CXX object CMakeFiles/lammps.dir/content/lammps/src/npair_bin_ghost.cpp.o\u001b[0m\n",
            "[ 69%] \u001b[32mBuilding CXX object CMakeFiles/lammps.dir/content/lammps/src/npair_copy.cpp.o\u001b[0m\n",
            "[ 69%] \u001b[32mBuilding CXX object CMakeFiles/lammps.dir/content/lammps/src/npair_halffull.cpp.o\u001b[0m\n",
            "[ 70%] \u001b[32mBuilding CXX object CMakeFiles/lammps.dir/content/lammps/src/npair_multi.cpp.o\u001b[0m\n",
            "[ 70%] \u001b[32mBuilding CXX object CMakeFiles/lammps.dir/content/lammps/src/npair_multi_old.cpp.o\u001b[0m\n",
            "[ 70%] \u001b[32mBuilding CXX object CMakeFiles/lammps.dir/content/lammps/src/npair_nsq.cpp.o\u001b[0m\n",
            "[ 70%] \u001b[32mBuilding CXX object CMakeFiles/lammps.dir/content/lammps/src/npair_nsq_ghost.cpp.o\u001b[0m\n",
            "[ 70%] \u001b[32mBuilding CXX object CMakeFiles/lammps.dir/content/lammps/src/npair_respa_bin.cpp.o\u001b[0m\n",
            "[ 71%] \u001b[32mBuilding CXX object CMakeFiles/lammps.dir/content/lammps/src/npair_respa_nsq.cpp.o\u001b[0m\n",
            "[ 71%] \u001b[32mBuilding CXX object CMakeFiles/lammps.dir/content/lammps/src/npair_skip.cpp.o\u001b[0m\n",
            "[ 71%] \u001b[32mBuilding CXX object CMakeFiles/lammps.dir/content/lammps/src/npair_skip_respa.cpp.o\u001b[0m\n",
            "[ 71%] \u001b[32mBuilding CXX object CMakeFiles/lammps.dir/content/lammps/src/npair_skip_size_off2on.cpp.o\u001b[0m\n",
            "[ 71%] \u001b[32mBuilding CXX object CMakeFiles/lammps.dir/content/lammps/src/npair_skip_size_off2on_oneside.cpp.o\u001b[0m\n",
            "[ 72%] \u001b[32mBuilding CXX object CMakeFiles/lammps.dir/content/lammps/src/npair_trim.cpp.o\u001b[0m\n",
            "[ 72%] \u001b[32mBuilding CXX object CMakeFiles/lammps.dir/content/lammps/src/nstencil.cpp.o\u001b[0m\n",
            "[ 72%] \u001b[32mBuilding CXX object CMakeFiles/lammps.dir/content/lammps/src/nstencil_bin.cpp.o\u001b[0m\n",
            "[ 72%] \u001b[32mBuilding CXX object CMakeFiles/lammps.dir/content/lammps/src/nstencil_ghost_bin.cpp.o\u001b[0m\n",
            "[ 72%] \u001b[32mBuilding CXX object CMakeFiles/lammps.dir/content/lammps/src/nstencil_multi.cpp.o\u001b[0m\n",
            "[ 73%] \u001b[32mBuilding CXX object CMakeFiles/lammps.dir/content/lammps/src/nstencil_multi_old.cpp.o\u001b[0m\n",
            "[ 73%] \u001b[32mBuilding CXX object CMakeFiles/lammps.dir/content/lammps/src/ntopo.cpp.o\u001b[0m\n",
            "[ 73%] \u001b[32mBuilding CXX object CMakeFiles/lammps.dir/content/lammps/src/ntopo_angle_all.cpp.o\u001b[0m\n",
            "[ 73%] \u001b[32mBuilding CXX object CMakeFiles/lammps.dir/content/lammps/src/ntopo_angle_partial.cpp.o\u001b[0m\n",
            "[ 73%] \u001b[32mBuilding CXX object CMakeFiles/lammps.dir/content/lammps/src/ntopo_angle_template.cpp.o\u001b[0m\n",
            "[ 73%] \u001b[32mBuilding CXX object CMakeFiles/lammps.dir/content/lammps/src/ntopo_bond_all.cpp.o\u001b[0m\n",
            "[ 74%] \u001b[32mBuilding CXX object CMakeFiles/lammps.dir/content/lammps/src/ntopo_bond_partial.cpp.o\u001b[0m\n",
            "[ 74%] \u001b[32mBuilding CXX object CMakeFiles/lammps.dir/content/lammps/src/ntopo_bond_template.cpp.o\u001b[0m\n",
            "[ 74%] \u001b[32mBuilding CXX object CMakeFiles/lammps.dir/content/lammps/src/ntopo_dihedral_all.cpp.o\u001b[0m\n",
            "[ 74%] \u001b[32mBuilding CXX object CMakeFiles/lammps.dir/content/lammps/src/ntopo_dihedral_partial.cpp.o\u001b[0m\n",
            "[ 74%] \u001b[32mBuilding CXX object CMakeFiles/lammps.dir/content/lammps/src/ntopo_dihedral_template.cpp.o\u001b[0m\n",
            "[ 75%] \u001b[32mBuilding CXX object CMakeFiles/lammps.dir/content/lammps/src/ntopo_improper_all.cpp.o\u001b[0m\n",
            "[ 75%] \u001b[32mBuilding CXX object CMakeFiles/lammps.dir/content/lammps/src/ntopo_improper_partial.cpp.o\u001b[0m\n",
            "[ 75%] \u001b[32mBuilding CXX object CMakeFiles/lammps.dir/content/lammps/src/ntopo_improper_template.cpp.o\u001b[0m\n",
            "[ 75%] \u001b[32mBuilding CXX object CMakeFiles/lammps.dir/content/lammps/src/output.cpp.o\u001b[0m\n",
            "[ 75%] \u001b[32mBuilding CXX object CMakeFiles/lammps.dir/content/lammps/src/pair.cpp.o\u001b[0m\n",
            "[ 76%] \u001b[32mBuilding CXX object CMakeFiles/lammps.dir/content/lammps/src/pair_born.cpp.o\u001b[0m\n",
            "[ 76%] \u001b[32mBuilding CXX object CMakeFiles/lammps.dir/content/lammps/src/pair_buck.cpp.o\u001b[0m\n",
            "[ 76%] \u001b[32mBuilding CXX object CMakeFiles/lammps.dir/content/lammps/src/pair_buck_coul_cut.cpp.o\u001b[0m\n",
            "[ 76%] \u001b[32mBuilding CXX object CMakeFiles/lammps.dir/content/lammps/src/pair_coul_cut.cpp.o\u001b[0m\n",
            "[ 76%] \u001b[32mBuilding CXX object CMakeFiles/lammps.dir/content/lammps/src/pair_coul_debye.cpp.o\u001b[0m\n",
            "[ 77%] \u001b[32mBuilding CXX object CMakeFiles/lammps.dir/content/lammps/src/pair_coul_dsf.cpp.o\u001b[0m\n",
            "[ 77%] \u001b[32mBuilding CXX object CMakeFiles/lammps.dir/content/lammps/src/pair_coul_wolf.cpp.o\u001b[0m\n",
            "[ 77%] \u001b[32mBuilding CXX object CMakeFiles/lammps.dir/content/lammps/src/pair_deprecated.cpp.o\u001b[0m\n",
            "[ 77%] \u001b[32mBuilding CXX object CMakeFiles/lammps.dir/content/lammps/src/pair_hybrid.cpp.o\u001b[0m\n",
            "[ 77%] \u001b[32mBuilding CXX object CMakeFiles/lammps.dir/content/lammps/src/pair_hybrid_molecular.cpp.o\u001b[0m\n",
            "[ 78%] \u001b[32mBuilding CXX object CMakeFiles/lammps.dir/content/lammps/src/pair_hybrid_overlay.cpp.o\u001b[0m\n",
            "[ 78%] \u001b[32mBuilding CXX object CMakeFiles/lammps.dir/content/lammps/src/pair_hybrid_scaled.cpp.o\u001b[0m\n",
            "[ 78%] \u001b[32mBuilding CXX object CMakeFiles/lammps.dir/content/lammps/src/pair_lj_cut.cpp.o\u001b[0m\n",
            "[ 78%] \u001b[32mBuilding CXX object CMakeFiles/lammps.dir/content/lammps/src/pair_lj_cut_coul_cut.cpp.o\u001b[0m\n",
            "[ 78%] \u001b[32mBuilding CXX object CMakeFiles/lammps.dir/content/lammps/src/pair_lj_expand.cpp.o\u001b[0m\n",
            "[ 79%] \u001b[32mBuilding CXX object CMakeFiles/lammps.dir/content/lammps/src/pair_morse.cpp.o\u001b[0m\n",
            "[ 79%] \u001b[32mBuilding CXX object CMakeFiles/lammps.dir/content/lammps/src/pair_soft.cpp.o\u001b[0m\n",
            "[ 79%] \u001b[32mBuilding CXX object CMakeFiles/lammps.dir/content/lammps/src/pair_table.cpp.o\u001b[0m\n",
            "[ 79%] \u001b[32mBuilding CXX object CMakeFiles/lammps.dir/content/lammps/src/pair_yukawa.cpp.o\u001b[0m\n",
            "[ 79%] \u001b[32mBuilding CXX object CMakeFiles/lammps.dir/content/lammps/src/pair_zbl.cpp.o\u001b[0m\n",
            "[ 80%] \u001b[32mBuilding CXX object CMakeFiles/lammps.dir/content/lammps/src/pair_zero.cpp.o\u001b[0m\n",
            "[ 80%] \u001b[32mBuilding CXX object CMakeFiles/lammps.dir/content/lammps/src/platform.cpp.o\u001b[0m\n",
            "[ 80%] \u001b[32mBuilding CXX object CMakeFiles/lammps.dir/content/lammps/src/potential_file_reader.cpp.o\u001b[0m\n",
            "[ 80%] \u001b[32mBuilding CXX object CMakeFiles/lammps.dir/content/lammps/src/procmap.cpp.o\u001b[0m\n",
            "[ 80%] \u001b[32mBuilding CXX object CMakeFiles/lammps.dir/content/lammps/src/random_mars.cpp.o\u001b[0m\n",
            "[ 81%] \u001b[32mBuilding CXX object CMakeFiles/lammps.dir/content/lammps/src/random_park.cpp.o\u001b[0m\n",
            "[ 81%] \u001b[32mBuilding CXX object CMakeFiles/lammps.dir/content/lammps/src/rcb.cpp.o\u001b[0m\n",
            "[ 81%] \u001b[32mBuilding CXX object CMakeFiles/lammps.dir/content/lammps/src/read_data.cpp.o\u001b[0m\n",
            "[ 81%] \u001b[32mBuilding CXX object CMakeFiles/lammps.dir/content/lammps/src/read_dump.cpp.o\u001b[0m\n",
            "[ 81%] \u001b[32mBuilding CXX object CMakeFiles/lammps.dir/content/lammps/src/read_restart.cpp.o\u001b[0m\n",
            "[ 82%] \u001b[32mBuilding CXX object CMakeFiles/lammps.dir/content/lammps/src/reader.cpp.o\u001b[0m\n",
            "[ 82%] \u001b[32mBuilding CXX object CMakeFiles/lammps.dir/content/lammps/src/reader_native.cpp.o\u001b[0m\n",
            "[ 82%] \u001b[32mBuilding CXX object CMakeFiles/lammps.dir/content/lammps/src/reader_xyz.cpp.o\u001b[0m\n",
            "[ 82%] \u001b[32mBuilding CXX object CMakeFiles/lammps.dir/content/lammps/src/region.cpp.o\u001b[0m\n",
            "[ 82%] \u001b[32mBuilding CXX object CMakeFiles/lammps.dir/content/lammps/src/region_block.cpp.o\u001b[0m\n",
            "[ 83%] \u001b[32mBuilding CXX object CMakeFiles/lammps.dir/content/lammps/src/region_cone.cpp.o\u001b[0m\n",
            "[ 83%] \u001b[32mBuilding CXX object CMakeFiles/lammps.dir/content/lammps/src/region_cylinder.cpp.o\u001b[0m\n",
            "[ 83%] \u001b[32mBuilding CXX object CMakeFiles/lammps.dir/content/lammps/src/region_deprecated.cpp.o\u001b[0m\n",
            "[ 83%] \u001b[32mBuilding CXX object CMakeFiles/lammps.dir/content/lammps/src/region_ellipsoid.cpp.o\u001b[0m\n",
            "[ 83%] \u001b[32mBuilding CXX object CMakeFiles/lammps.dir/content/lammps/src/region_intersect.cpp.o\u001b[0m\n",
            "[ 83%] \u001b[32mBuilding CXX object CMakeFiles/lammps.dir/content/lammps/src/region_plane.cpp.o\u001b[0m\n",
            "[ 84%] \u001b[32mBuilding CXX object CMakeFiles/lammps.dir/content/lammps/src/region_prism.cpp.o\u001b[0m\n",
            "[ 84%] \u001b[32mBuilding CXX object CMakeFiles/lammps.dir/content/lammps/src/region_sphere.cpp.o\u001b[0m\n",
            "[ 84%] \u001b[32mBuilding CXX object CMakeFiles/lammps.dir/content/lammps/src/region_union.cpp.o\u001b[0m\n",
            "[ 84%] \u001b[32mBuilding CXX object CMakeFiles/lammps.dir/content/lammps/src/replicate.cpp.o\u001b[0m\n",
            "[ 84%] \u001b[32mBuilding CXX object CMakeFiles/lammps.dir/content/lammps/src/rerun.cpp.o\u001b[0m\n",
            "[ 85%] \u001b[32mBuilding CXX object CMakeFiles/lammps.dir/content/lammps/src/reset_atoms_id.cpp.o\u001b[0m\n",
            "[ 85%] \u001b[32mBuilding CXX object CMakeFiles/lammps.dir/content/lammps/src/reset_atoms_image.cpp.o\u001b[0m\n",
            "[ 85%] \u001b[32mBuilding CXX object CMakeFiles/lammps.dir/content/lammps/src/reset_atoms_mol.cpp.o\u001b[0m\n",
            "[ 85%] \u001b[32mBuilding CXX object CMakeFiles/lammps.dir/content/lammps/src/respa.cpp.o\u001b[0m\n",
            "[ 85%] \u001b[32mBuilding CXX object CMakeFiles/lammps.dir/content/lammps/src/run.cpp.o\u001b[0m\n",
            "[ 86%] \u001b[32mBuilding CXX object CMakeFiles/lammps.dir/content/lammps/src/set.cpp.o\u001b[0m\n",
            "[ 86%] \u001b[32mBuilding CXX object CMakeFiles/lammps.dir/content/lammps/src/special.cpp.o\u001b[0m\n",
            "[ 86%] \u001b[32mBuilding CXX object CMakeFiles/lammps.dir/content/lammps/src/table_file_reader.cpp.o\u001b[0m\n",
            "[ 86%] \u001b[32mBuilding CXX object CMakeFiles/lammps.dir/content/lammps/src/tabular_function.cpp.o\u001b[0m\n",
            "[ 86%] \u001b[32mBuilding CXX object CMakeFiles/lammps.dir/content/lammps/src/text_file_reader.cpp.o\u001b[0m\n",
            "[ 87%] \u001b[32mBuilding CXX object CMakeFiles/lammps.dir/content/lammps/src/thermo.cpp.o\u001b[0m\n",
            "[ 87%] \u001b[32mBuilding CXX object CMakeFiles/lammps.dir/content/lammps/src/timer.cpp.o\u001b[0m\n",
            "[ 87%] \u001b[32mBuilding CXX object CMakeFiles/lammps.dir/content/lammps/src/tokenizer.cpp.o\u001b[0m\n",
            "[ 87%] \u001b[32mBuilding CXX object CMakeFiles/lammps.dir/content/lammps/src/universe.cpp.o\u001b[0m\n",
            "[ 87%] \u001b[32mBuilding CXX object CMakeFiles/lammps.dir/content/lammps/src/update.cpp.o\u001b[0m\n",
            "[ 88%] \u001b[32mBuilding CXX object CMakeFiles/lammps.dir/content/lammps/src/utils.cpp.o\u001b[0m\n",
            "[ 88%] \u001b[32mBuilding CXX object CMakeFiles/lammps.dir/content/lammps/src/variable.cpp.o\u001b[0m\n",
            "\u001b[01m\u001b[K/content/lammps/src/variable.cpp:\u001b[m\u001b[K In member function ‘\u001b[01m\u001b[Kint LAMMPS_NS::Variable::next(int, char**)\u001b[m\u001b[K’:\n",
            "\u001b[01m\u001b[K/content/lammps/src/variable.cpp:798:14:\u001b[m\u001b[K \u001b[01;35m\u001b[Kwarning: \u001b[m\u001b[Kignoring return value of ‘\u001b[01m\u001b[Ksize_t fread(void*, size_t, size_t, FILE*)\u001b[m\u001b[K’ declared with attribute ‘\u001b[01m\u001b[Kwarn_unused_result\u001b[m\u001b[K’ [\u001b[01;35m\u001b[K\u001b]8;;https://gcc.gnu.org/onlinedocs/gcc/Warning-Options.html#index-Wunused-result\u0007-Wunused-result\u001b]8;;\u0007\u001b[m\u001b[K]\n",
            "  798 |         \u001b[01;35m\u001b[Kfread(buf,1,64,fp)\u001b[m\u001b[K;\n",
            "      |         \u001b[01;35m\u001b[K~~~~~^~~~~~~~~~~~~\u001b[m\u001b[K\n",
            "[ 88%] \u001b[32mBuilding CXX object CMakeFiles/lammps.dir/content/lammps/src/velocity.cpp.o\u001b[0m\n",
            "[ 88%] \u001b[32mBuilding CXX object CMakeFiles/lammps.dir/content/lammps/src/verlet.cpp.o\u001b[0m\n",
            "[ 88%] \u001b[32mBuilding CXX object CMakeFiles/lammps.dir/content/lammps/src/write_coeff.cpp.o\u001b[0m\n",
            "[ 89%] \u001b[32mBuilding CXX object CMakeFiles/lammps.dir/content/lammps/src/write_data.cpp.o\u001b[0m\n",
            "[ 89%] \u001b[32mBuilding CXX object CMakeFiles/lammps.dir/content/lammps/src/write_dump.cpp.o\u001b[0m\n",
            "[ 89%] \u001b[32mBuilding CXX object CMakeFiles/lammps.dir/content/lammps/src/write_restart.cpp.o\u001b[0m\n",
            "[ 89%] \u001b[32mBuilding CXX object CMakeFiles/lammps.dir/cython/mliap_model_python_couple.cpp.o\u001b[0m\n",
            "[ 89%] \u001b[32mBuilding CXX object CMakeFiles/lammps.dir/cython/mliap_unified_couple.cpp.o\u001b[0m\n",
            "[ 90%] \u001b[32mBuilding CXX object CMakeFiles/lammps.dir/content/lammps/src/ML-IAP/compute_mliap.cpp.o\u001b[0m\n",
            "[ 90%] \u001b[32mBuilding CXX object CMakeFiles/lammps.dir/content/lammps/src/ML-IAP/mliap_data.cpp.o\u001b[0m\n",
            "[ 90%] \u001b[32mBuilding CXX object CMakeFiles/lammps.dir/content/lammps/src/ML-IAP/mliap_descriptor.cpp.o\u001b[0m\n",
            "[ 90%] \u001b[32mBuilding CXX object CMakeFiles/lammps.dir/content/lammps/src/ML-IAP/mliap_descriptor_ace.cpp.o\u001b[0m\n",
            "[ 90%] \u001b[32mBuilding CXX object CMakeFiles/lammps.dir/content/lammps/src/ML-IAP/mliap_descriptor_snap.cpp.o\u001b[0m\n",
            "[ 91%] \u001b[32mBuilding CXX object CMakeFiles/lammps.dir/content/lammps/src/ML-IAP/mliap_descriptor_so3.cpp.o\u001b[0m\n",
            "[ 91%] \u001b[32mBuilding CXX object CMakeFiles/lammps.dir/content/lammps/src/ML-IAP/mliap_model.cpp.o\u001b[0m\n",
            "[ 91%] \u001b[32mBuilding CXX object CMakeFiles/lammps.dir/content/lammps/src/ML-IAP/mliap_model_linear.cpp.o\u001b[0m\n",
            "[ 91%] \u001b[32mBuilding CXX object CMakeFiles/lammps.dir/content/lammps/src/ML-IAP/mliap_model_nn.cpp.o\u001b[0m\n",
            "[ 91%] \u001b[32mBuilding CXX object CMakeFiles/lammps.dir/content/lammps/src/ML-IAP/mliap_model_python.cpp.o\u001b[0m\n",
            "[ 92%] \u001b[32mBuilding CXX object CMakeFiles/lammps.dir/content/lammps/src/ML-IAP/mliap_model_quadratic.cpp.o\u001b[0m\n",
            "[ 92%] \u001b[32mBuilding CXX object CMakeFiles/lammps.dir/content/lammps/src/ML-IAP/mliap_so3.cpp.o\u001b[0m\n",
            "[ 92%] \u001b[32mBuilding CXX object CMakeFiles/lammps.dir/content/lammps/src/ML-IAP/mliap_unified.cpp.o\u001b[0m\n",
            "[ 92%] \u001b[32mBuilding CXX object CMakeFiles/lammps.dir/content/lammps/src/ML-IAP/pair_mliap.cpp.o\u001b[0m\n",
            "[ 92%] \u001b[32mBuilding CXX object CMakeFiles/lammps.dir/content/lammps/src/ML-PACE/compute_pace.cpp.o\u001b[0m\n",
            "[ 93%] \u001b[32mBuilding CXX object CMakeFiles/lammps.dir/content/lammps/src/ML-PACE/pair_pace.cpp.o\u001b[0m\n",
            "[ 93%] \u001b[32mBuilding CXX object CMakeFiles/lammps.dir/content/lammps/src/ML-PACE/pair_pace_extrapolation.cpp.o\u001b[0m\n",
            "[ 93%] \u001b[32mBuilding CXX object CMakeFiles/lammps.dir/content/lammps/src/ML-SNAP/compute_grid.cpp.o\u001b[0m\n",
            "[ 93%] \u001b[32mBuilding CXX object CMakeFiles/lammps.dir/content/lammps/src/ML-SNAP/compute_grid_local.cpp.o\u001b[0m\n",
            "[ 93%] \u001b[32mBuilding CXX object CMakeFiles/lammps.dir/content/lammps/src/ML-SNAP/compute_sna_atom.cpp.o\u001b[0m\n",
            "[ 93%] \u001b[32mBuilding CXX object CMakeFiles/lammps.dir/content/lammps/src/ML-SNAP/compute_sna_grid.cpp.o\u001b[0m\n",
            "[ 94%] \u001b[32mBuilding CXX object CMakeFiles/lammps.dir/content/lammps/src/ML-SNAP/compute_sna_grid_local.cpp.o\u001b[0m\n",
            "[ 94%] \u001b[32mBuilding CXX object CMakeFiles/lammps.dir/content/lammps/src/ML-SNAP/compute_snad_atom.cpp.o\u001b[0m\n",
            "[ 94%] \u001b[32mBuilding CXX object CMakeFiles/lammps.dir/content/lammps/src/ML-SNAP/compute_snap.cpp.o\u001b[0m\n",
            "[ 94%] \u001b[32mBuilding CXX object CMakeFiles/lammps.dir/content/lammps/src/ML-SNAP/compute_snav_atom.cpp.o\u001b[0m\n",
            "[ 94%] \u001b[32mBuilding CXX object CMakeFiles/lammps.dir/content/lammps/src/ML-SNAP/pair_snap.cpp.o\u001b[0m\n",
            "[ 95%] \u001b[32mBuilding CXX object CMakeFiles/lammps.dir/content/lammps/src/ML-SNAP/sna.cpp.o\u001b[0m\n",
            "[ 95%] \u001b[32mBuilding CXX object CMakeFiles/lammps.dir/content/lammps/src/PYTHON/fix_python_invoke.cpp.o\u001b[0m\n",
            "[ 95%] \u001b[32mBuilding CXX object CMakeFiles/lammps.dir/content/lammps/src/PYTHON/fix_python_move.cpp.o\u001b[0m\n",
            "[ 95%] \u001b[32mBuilding CXX object CMakeFiles/lammps.dir/content/lammps/src/PYTHON/pair_python.cpp.o\u001b[0m\n",
            "[ 95%] \u001b[32mBuilding CXX object CMakeFiles/lammps.dir/content/lammps/src/PYTHON/python_impl.cpp.o\u001b[0m\n",
            "[ 96%] \u001b[32mBuilding CXX object CMakeFiles/lammps.dir/content/lammps/src/SPIN/atom_vec_spin.cpp.o\u001b[0m\n",
            "[ 96%] \u001b[32mBuilding CXX object CMakeFiles/lammps.dir/content/lammps/src/SPIN/compute_spin.cpp.o\u001b[0m\n",
            "[ 96%] \u001b[32mBuilding CXX object CMakeFiles/lammps.dir/content/lammps/src/SPIN/fix_langevin_spin.cpp.o\u001b[0m\n",
            "[ 96%] \u001b[32mBuilding CXX object CMakeFiles/lammps.dir/content/lammps/src/SPIN/fix_neb_spin.cpp.o\u001b[0m\n",
            "[ 96%] \u001b[32mBuilding CXX object CMakeFiles/lammps.dir/content/lammps/src/SPIN/fix_nve_spin.cpp.o\u001b[0m\n",
            "[ 97%] \u001b[32mBuilding CXX object CMakeFiles/lammps.dir/content/lammps/src/SPIN/fix_precession_spin.cpp.o\u001b[0m\n",
            "[ 97%] \u001b[32mBuilding CXX object CMakeFiles/lammps.dir/content/lammps/src/SPIN/fix_setforce_spin.cpp.o\u001b[0m\n",
            "[ 97%] \u001b[32mBuilding CXX object CMakeFiles/lammps.dir/content/lammps/src/SPIN/min_spin.cpp.o\u001b[0m\n",
            "[ 97%] \u001b[32mBuilding CXX object CMakeFiles/lammps.dir/content/lammps/src/SPIN/min_spin_cg.cpp.o\u001b[0m\n",
            "[ 97%] \u001b[32mBuilding CXX object CMakeFiles/lammps.dir/content/lammps/src/SPIN/min_spin_lbfgs.cpp.o\u001b[0m\n",
            "[ 98%] \u001b[32mBuilding CXX object CMakeFiles/lammps.dir/content/lammps/src/SPIN/neb_spin.cpp.o\u001b[0m\n",
            "[ 98%] \u001b[32mBuilding CXX object CMakeFiles/lammps.dir/content/lammps/src/SPIN/pair_spin.cpp.o\u001b[0m\n",
            "[ 98%] \u001b[32mBuilding CXX object CMakeFiles/lammps.dir/content/lammps/src/SPIN/pair_spin_dipole_cut.cpp.o\u001b[0m\n",
            "[ 98%] \u001b[32mBuilding CXX object CMakeFiles/lammps.dir/content/lammps/src/SPIN/pair_spin_dipole_long.cpp.o\u001b[0m\n",
            "[ 98%] \u001b[32mBuilding CXX object CMakeFiles/lammps.dir/content/lammps/src/SPIN/pair_spin_dmi.cpp.o\u001b[0m\n",
            "[100%] \u001b[32mBuilding CXX object CMakeFiles/lammps.dir/content/lammps/src/SPIN/pair_spin_exchange.cpp.o\u001b[0m\n",
            "[100%] \u001b[32mBuilding CXX object CMakeFiles/lammps.dir/content/lammps/src/SPIN/pair_spin_exchange_biquadratic.cpp.o\u001b[0m\n",
            "[100%] \u001b[32mBuilding CXX object CMakeFiles/lammps.dir/content/lammps/src/SPIN/pair_spin_magelec.cpp.o\u001b[0m\n",
            "[100%] \u001b[32mBuilding CXX object CMakeFiles/lammps.dir/content/lammps/src/SPIN/pair_spin_neel.cpp.o\u001b[0m\n",
            "[100%] \u001b[32m\u001b[1mLinking CXX shared library liblammps.so\u001b[0m\n",
            "[100%] Built target lammps\n",
            "[100%] \u001b[32mBuilding CXX object CMakeFiles/lmp.dir/content/lammps/src/main.cpp.o\u001b[0m\n",
            "[100%] \u001b[32m\u001b[1mLinking CXX executable lmp\u001b[0m\n",
            "[100%] Built target lmp\n",
            "\u001b[34m\u001b[1mInstalling LAMMPS Python module\u001b[0m\n",
            "Purging existing wheels...\n",
            "\n",
            "Requirement already satisfied: pip in ./buildwheel/lib/python3.10/site-packages (22.0.2)\n",
            "Collecting pip\n",
            "  Using cached pip-24.1.2-py3-none-any.whl (1.8 MB)\n",
            "Installing collected packages: pip\n",
            "  Attempting uninstall: pip\n",
            "    Found existing installation: pip 22.0.2\n",
            "    Uninstalling pip-22.0.2:\n",
            "      Successfully uninstalled pip-22.0.2\n",
            "Successfully installed pip-24.1.2\n",
            "Requirement already satisfied: pip in ./buildwheel/lib/python3.10/site-packages (from -r wheel_requirements.txt (line 1)) (24.1.2)\n",
            "Collecting build (from -r wheel_requirements.txt (line 2))\n",
            "  Using cached build-1.2.1-py3-none-any.whl.metadata (4.3 kB)\n",
            "Collecting wheel (from -r wheel_requirements.txt (line 3))\n",
            "  Using cached wheel-0.43.0-py3-none-any.whl.metadata (2.2 kB)\n",
            "Requirement already satisfied: setuptools in ./buildwheel/lib/python3.10/site-packages (from -r wheel_requirements.txt (line 4)) (59.6.0)\n",
            "Collecting setuptools (from -r wheel_requirements.txt (line 4))\n",
            "  Using cached setuptools-70.3.0-py3-none-any.whl.metadata (5.8 kB)\n",
            "Collecting packaging>=19.1 (from build->-r wheel_requirements.txt (line 2))\n",
            "  Using cached packaging-24.1-py3-none-any.whl.metadata (3.2 kB)\n",
            "Collecting pyproject_hooks (from build->-r wheel_requirements.txt (line 2))\n",
            "  Using cached pyproject_hooks-1.1.0-py3-none-any.whl.metadata (1.3 kB)\n",
            "Collecting tomli>=1.1.0 (from build->-r wheel_requirements.txt (line 2))\n",
            "  Using cached tomli-2.0.1-py3-none-any.whl.metadata (8.9 kB)\n",
            "Using cached build-1.2.1-py3-none-any.whl (21 kB)\n",
            "Using cached wheel-0.43.0-py3-none-any.whl (65 kB)\n",
            "Using cached setuptools-70.3.0-py3-none-any.whl (931 kB)\n",
            "Using cached packaging-24.1-py3-none-any.whl (53 kB)\n",
            "Using cached tomli-2.0.1-py3-none-any.whl (12 kB)\n",
            "Using cached pyproject_hooks-1.1.0-py3-none-any.whl (9.2 kB)\n",
            "Installing collected packages: wheel, tomli, setuptools, pyproject_hooks, packaging, build\n",
            "  Attempting uninstall: setuptools\n",
            "    Found existing installation: setuptools 59.6.0\n",
            "    Uninstalling setuptools-59.6.0:\n",
            "      Successfully uninstalled setuptools-59.6.0\n",
            "Successfully installed build-1.2.1 packaging-24.1 pyproject_hooks-1.1.0 setuptools-70.3.0 tomli-2.0.1 wheel-0.43.0\n",
            "Building new binary wheel\n",
            "\u001b[1m* Getting build dependencies for wheel...\u001b[0m\n",
            "running egg_info\n",
            "creating lammps.egg-info\n",
            "writing lammps.egg-info/PKG-INFO\n",
            "writing dependency_links to lammps.egg-info/dependency_links.txt\n",
            "writing top-level names to lammps.egg-info/top_level.txt\n",
            "writing manifest file 'lammps.egg-info/SOURCES.txt'\n",
            "reading manifest file 'lammps.egg-info/SOURCES.txt'\n",
            "writing manifest file 'lammps.egg-info/SOURCES.txt'\n",
            "\u001b[1m* Building wheel...\u001b[0m\n",
            "running bdist_wheel\n",
            "running build\n",
            "running build_py\n",
            "creating build\n",
            "creating build/lib.linux-x86_64-cpython-310\n",
            "creating build/lib.linux-x86_64-cpython-310/lammps\n",
            "copying lammps/formats.py -> build/lib.linux-x86_64-cpython-310/lammps\n",
            "copying lammps/constants.py -> build/lib.linux-x86_64-cpython-310/lammps\n",
            "copying lammps/pylammps.py -> build/lib.linux-x86_64-cpython-310/lammps\n",
            "copying lammps/__init__.py -> build/lib.linux-x86_64-cpython-310/lammps\n",
            "copying lammps/numpy_wrapper.py -> build/lib.linux-x86_64-cpython-310/lammps\n",
            "copying lammps/core.py -> build/lib.linux-x86_64-cpython-310/lammps\n",
            "copying lammps/data.py -> build/lib.linux-x86_64-cpython-310/lammps\n",
            "creating build/lib.linux-x86_64-cpython-310/lammps/mliap\n",
            "copying lammps/mliap/pytorch.py -> build/lib.linux-x86_64-cpython-310/lammps/mliap\n",
            "copying lammps/mliap/mliap_unified_lj.py -> build/lib.linux-x86_64-cpython-310/lammps/mliap\n",
            "copying lammps/mliap/__init__.py -> build/lib.linux-x86_64-cpython-310/lammps/mliap\n",
            "copying lammps/mliap/mliap_unified_abc.py -> build/lib.linux-x86_64-cpython-310/lammps/mliap\n",
            "copying lammps/mliap/loader.py -> build/lib.linux-x86_64-cpython-310/lammps/mliap\n",
            "copying lammps/liblammps.so -> build/lib.linux-x86_64-cpython-310/lammps\n",
            "running build_ext\n",
            "installing to build/bdist.linux-x86_64/wheel\n",
            "running install\n",
            "running install_lib\n",
            "creating build/bdist.linux-x86_64\n",
            "creating build/bdist.linux-x86_64/wheel\n",
            "creating build/bdist.linux-x86_64/wheel/lammps\n",
            "copying build/lib.linux-x86_64-cpython-310/lammps/formats.py -> build/bdist.linux-x86_64/wheel/lammps\n",
            "creating build/bdist.linux-x86_64/wheel/lammps/mliap\n",
            "copying build/lib.linux-x86_64-cpython-310/lammps/mliap/pytorch.py -> build/bdist.linux-x86_64/wheel/lammps/mliap\n",
            "copying build/lib.linux-x86_64-cpython-310/lammps/mliap/mliap_unified_lj.py -> build/bdist.linux-x86_64/wheel/lammps/mliap\n",
            "copying build/lib.linux-x86_64-cpython-310/lammps/mliap/__init__.py -> build/bdist.linux-x86_64/wheel/lammps/mliap\n",
            "copying build/lib.linux-x86_64-cpython-310/lammps/mliap/mliap_unified_abc.py -> build/bdist.linux-x86_64/wheel/lammps/mliap\n",
            "copying build/lib.linux-x86_64-cpython-310/lammps/mliap/loader.py -> build/bdist.linux-x86_64/wheel/lammps/mliap\n",
            "copying build/lib.linux-x86_64-cpython-310/lammps/constants.py -> build/bdist.linux-x86_64/wheel/lammps\n",
            "copying build/lib.linux-x86_64-cpython-310/lammps/liblammps.so -> build/bdist.linux-x86_64/wheel/lammps\n",
            "copying build/lib.linux-x86_64-cpython-310/lammps/pylammps.py -> build/bdist.linux-x86_64/wheel/lammps\n",
            "copying build/lib.linux-x86_64-cpython-310/lammps/__init__.py -> build/bdist.linux-x86_64/wheel/lammps\n",
            "copying build/lib.linux-x86_64-cpython-310/lammps/numpy_wrapper.py -> build/bdist.linux-x86_64/wheel/lammps\n",
            "copying build/lib.linux-x86_64-cpython-310/lammps/core.py -> build/bdist.linux-x86_64/wheel/lammps\n",
            "copying build/lib.linux-x86_64-cpython-310/lammps/data.py -> build/bdist.linux-x86_64/wheel/lammps\n",
            "running install_egg_info\n",
            "running egg_info\n",
            "writing lammps.egg-info/PKG-INFO\n",
            "writing dependency_links to lammps.egg-info/dependency_links.txt\n",
            "writing top-level names to lammps.egg-info/top_level.txt\n",
            "reading manifest file 'lammps.egg-info/SOURCES.txt'\n",
            "writing manifest file 'lammps.egg-info/SOURCES.txt'\n",
            "Copying lammps.egg-info to build/bdist.linux-x86_64/wheel/lammps-2024.6.27-py3.10.egg-info\n",
            "running install_scripts\n",
            "creating build/bdist.linux-x86_64/wheel/lammps-2024.6.27.dist-info/WHEEL\n",
            "creating '/content/lammps/build/build-python/.tmp-lwu6tseo/lammps-2024.6.27-cp310-cp310-linux_x86_64.whl' and adding 'build/bdist.linux-x86_64/wheel' to it\n",
            "adding 'lammps/__init__.py'\n",
            "adding 'lammps/constants.py'\n",
            "adding 'lammps/core.py'\n",
            "adding 'lammps/data.py'\n",
            "adding 'lammps/formats.py'\n",
            "adding 'lammps/liblammps.so'\n",
            "adding 'lammps/numpy_wrapper.py'\n",
            "adding 'lammps/pylammps.py'\n",
            "adding 'lammps/mliap/__init__.py'\n",
            "adding 'lammps/mliap/loader.py'\n",
            "adding 'lammps/mliap/mliap_unified_abc.py'\n",
            "adding 'lammps/mliap/mliap_unified_lj.py'\n",
            "adding 'lammps/mliap/pytorch.py'\n",
            "adding 'lammps-2024.6.27.dist-info/METADATA'\n",
            "adding 'lammps-2024.6.27.dist-info/WHEEL'\n",
            "adding 'lammps-2024.6.27.dist-info/top_level.txt'\n",
            "adding 'lammps-2024.6.27.dist-info/RECORD'\n",
            "removing build/bdist.linux-x86_64/wheel\n",
            "\u001b[1m\u001b[92mSuccessfully built \u001b[4mlammps-2024.6.27-cp310-cp310-linux_x86_64.whl\u001b[0m\u001b[1m\u001b[92m\u001b[0m\n",
            "Installing wheel into system site-packages folder\n",
            "Processing ./lammps-2024.6.27-cp310-cp310-linux_x86_64.whl\n",
            "Installing collected packages: lammps\n",
            "Successfully installed lammps-2024.6.27\n",
            "WARNING: Running pip as the 'root' user can result in broken permissions and conflicting behaviour with the system package manager, possibly rendering your system unusable.It is recommended to use a virtual environment instead: https://pip.pypa.io/warnings/venv. Use the --root-user-action option if you know what you are doing and want to suppress this warning.\n",
            "\n",
            "Built target install-python\n",
            "/content\n",
            "Cloning into 'FitSNAP'...\n",
            "remote: Enumerating objects: 40963, done.\u001b[K\n",
            "remote: Counting objects: 100% (3530/3530), done.\u001b[K\n",
            "remote: Compressing objects: 100% (1094/1094), done.\u001b[K\n",
            "remote: Total 40963 (delta 2511), reused 3161 (delta 2408), pack-reused 37433\u001b[K\n",
            "Receiving objects: 100% (40963/40963), 239.62 MiB | 16.11 MiB/s, done.\n",
            "Resolving deltas: 100% (19070/19070), done.\n",
            "Updating files: 100% (31005/31005), done.\n",
            "/bin/bash: line 1: /env/python: No such file or directory\n",
            "env: PYTHONPATH=/env/python:/bin/bash:\n",
            "env: LD_LIBRARY_PATH=/usr/local/nvidia/lib:/usr/local/nvidia/lib64:/content/lammps/build\n",
            "/content/FitSNAP\n"
          ]
        }
      ],
      "source": [
        "# Install LAMMPS with Python interface.\n",
        "\n",
        "!apt-get update\n",
        "!apt install -y cmake build-essential git ccache openmpi-bin libopenmpi-dev python3.10-venv\n",
        "!pip install --upgrade pip\n",
        "!pip install numpy torch scipy virtualenv psutil pandas tabulate mpi4py Cython sklearn\n",
        "!pip install ase\n",
        "!pip install fitsnap3\n",
        "%cd /content\n",
        "!rm -rf lammps\n",
        "!git clone https://github.com/lammps/lammps.git lammps\n",
        "%cd /content/lammps\n",
        "!rm -rf build\n",
        "!mkdir build\n",
        "%cd build\n",
        "!cmake ../cmake -DLAMMPS_EXCEPTIONS=yes \\\n",
        "               -DBUILD_SHARED_LIBS=yes \\\n",
        "               -DMLIAP_ENABLE_PYTHON=yes \\\n",
        "               -DPKG_PYTHON=yes \\\n",
        "               -DPKG_ML-SNAP=yes \\\n",
        "               -DPKG_ML-IAP=yes \\\n",
        "               -DPKG_ML-PACE=yes \\\n",
        "               -DPKG_SPIN=yes \\\n",
        "               -DPYTHON_EXECUTABLE:FILEPATH=`which python`\n",
        "!make -j 2\n",
        "!make install-python\n",
        "\n",
        "# Install FitSNAP.\n",
        "\n",
        "%cd /content\n",
        "!rm -rf FitSNAP\n",
        "!git clone https://github.com/FitSNAP/FitSNAP\n",
        "#!git clone -b collected-changes https://github.com/rohskopf/FitSNAP\n",
        "\n",
        "# Set environment variables.\n",
        "\n",
        "!$PYTHONPATH\n",
        "%env PYTHONPATH=/env/python:/bin/bash:\n",
        "%env LD_LIBRARY_PATH=/usr/local/nvidia/lib:/usr/local/nvidia/lib64:/content/lammps/build\n",
        "\n",
        "# Move into FitSNAP directory\n",
        "%cd FitSNAP"
      ]
    },
    {
      "cell_type": "markdown",
      "metadata": {
        "id": "ruLaphHFc2Il"
      },
      "source": [
        "# Check if Python LAMMPS is working and opening example data"
      ]
    },
    {
      "cell_type": "code",
      "execution_count": 11,
      "metadata": {
        "colab": {
          "base_uri": "https://localhost:8080/"
        },
        "id": "gwDqPWUfcyPl",
        "outputId": "af82637c-9a73-4b2d-8ef8-3463a1c0c8ac"
      },
      "outputs": [
        {
          "output_type": "stream",
          "name": "stdout",
          "text": [
            "<lammps.core.lammps object at 0x7ee74c40eda0>\n"
          ]
        }
      ],
      "source": [
        "import lammps\n",
        "lmp = lammps.lammps()\n",
        "print(lmp)"
      ]
    },
    {
      "cell_type": "code",
      "source": [
        "file_ = '/content/fields/box_d20_M24_NN0_s0.8_m3.mat'\n",
        "B = L2P.load_lumerical_mat(file_,load_item = 'E', silent=2)\n",
        "B = B['T'].E\n",
        "B = B[:,:,0,0,:]\n",
        "s = np.shape(B)\n",
        "plt.imshow(np.sum(abs(B)**2, axis = 2))\n",
        "plt.show()\n",
        "coo = coordinates/int(20)*(s[0]-64)+32\n",
        "B_ = np.array([B[int(i[0])-30:int(i[0])+30, int(i[1])-30:int(i[1])+30].mean(axis=(0,1)) for i in coo])\n",
        "#B_ = np.sum(abs(B_)**2, axis = -1)"
      ],
      "metadata": {
        "colab": {
          "base_uri": "https://localhost:8080/",
          "height": 470
        },
        "id": "80vqt0xEIf3r",
        "outputId": "e13cd575-a7aa-43d3-a567-dd825da4e204"
      },
      "execution_count": 206,
      "outputs": [
        {
          "output_type": "stream",
          "name": "stdout",
          "text": [
            "\n",
            "\n"
          ]
        },
        {
          "output_type": "display_data",
          "data": {
            "text/plain": [
              "<Figure size 640x480 with 1 Axes>"
            ],
            "image/png": "[encoded data removed]"
          },
          "metadata": {}
        }
      ]
    },
    {
      "cell_type": "code",
      "source": [
        "dir = '/content/distributions/box_d20_M24_NN0.mat'\n",
        "image = scipy.io.loadmat(dir)['points'].squeeze()\n",
        "coordinates = image[:,:,2]\n",
        "\n",
        "# Write data to the XYZ file\n",
        "#!mkdir /content/sample_data/XYZ\n",
        "with open(\"/content/sample_data/XYZ/box_d20_M24_NN0.xyz\", \"w\") as xyz_file:\n",
        "    xyz_file.write(str(len(coordinates))+'\\n')\n",
        "    xyz_file.write('Lattice = \"20.0 0.0 0.0 0.0 20.0 0.0 0.0 0.0 20.0\" Properties=species:S:1:pos:R:3:forces:R:3 energy=1 stress=\"0 0 0 0 0 0 0 0 0\\n')\n",
        "    for i in range(len(coordinates)):\n",
        "        line = coordinates[i]\n",
        "        x, y = line   # adding the coordinates x, y, z=0\n",
        "        e1,e2,e3 = abs(B_[i])   # adding here the target electric field, but not sure thats the way to go\n",
        "        xyz_file.write(f\"{'H'}\\t{x}\\t{y}\\t{0}\\t{e1}\\t{e2}\\t{e3}\\n\")"
      ],
      "metadata": {
        "id": "8UoHXcQIXYSE"
      },
      "execution_count": 208,
      "outputs": []
    },
    {
      "cell_type": "markdown",
      "metadata": {
        "id": "qUtya2a7e7Hm"
      },
      "source": [
        "# Basic use: define paramters and create instance of fitSNAP"
      ]
    },
    {
      "cell_type": "markdown",
      "metadata": {
        "id": "AapOHPRQe7Hn"
      },
      "source": [
        "Necessary imports:"
      ]
    },
    {
      "cell_type": "code",
      "execution_count": 10,
      "metadata": {
        "id": "P6HEThYJe7Hn",
        "colab": {
          "base_uri": "https://localhost:8080/"
        },
        "outputId": "acb37104-14e4-4a4e-a1e8-4b2142de3ae2"
      },
      "outputs": [
        {
          "output_type": "stream",
          "name": "stdout",
          "text": [
            "Generating your first pickled library of CG coefficients. This will take a few moments...\n",
            "Generating your first pickled library of Wigner 3j coefficients. This will take a few moments...\n"
          ]
        }
      ],
      "source": [
        "from mpi4py import MPI\n",
        "import numpy as np\n",
        "from fitsnap3lib.fitsnap import FitSnap"
      ]
    },
    {
      "cell_type": "markdown",
      "metadata": {
        "id": "DAbP_xR7e7Ho"
      },
      "source": [
        "Then set up a communicator. In this simple example we will use the world communicator, which will actually get chosen by default if you optionally choose to not specify a communicator. Important points on parallelism:\n",
        "\n",
        "- To take advantage of MPI processes, you must put these lines in a script and run like `mpirun -np P script.py`.\n",
        "- Examples of this are shown in the `examples/library` directory."
      ]
    },
    {
      "cell_type": "code",
      "execution_count": 13,
      "metadata": {
        "id": "YY6BHHu7e7Hp"
      },
      "outputs": [],
      "source": [
        "# Set up your communicator.\n",
        "comm = MPI.COMM_WORLD"
      ]
    },
    {
      "cell_type": "markdown",
      "metadata": {
        "id": "H4e2CqPhe7Hq"
      },
      "source": [
        "The first mandatory step is to create input containing desired settings. These settings include everything from which descriptors to calculate, descriptor settings, which solver to use in performing a fit, how to separate the data into groups, and other options.\n",
        "\n",
        "Import points on input settings:\n",
        "- `settings` can be a dictionary defined like below, or a path to a traditional FitSNAP input script like `/path/to/Ta-example.in`.\n",
        "- Some sections are not required. E.g.\n",
        "    - `SCRAPER` is only required if you want to use native file scrapers.\n",
        "    - `SOLVER` is only required if you want to use native model solvers and error analysis.\n",
        "    - `GROUPS` is only required if you want to define groups of configurations with names and loss function weights."
      ]
    },
    {
      "cell_type": "code",
      "execution_count": 209,
      "metadata": {
        "id": "mDspMLG6e7Hq"
      },
      "outputs": [],
      "source": [
        "# Create an input dictionary containing settings.\n",
        "\n",
        "settings = \\\n",
        "{\n",
        "\"BISPECTRUM\":\n",
        "    {\n",
        "    \"numTypes\": 1,\n",
        "    \"twojmax\": 6,\n",
        "    \"rcutfac\": 4.67637,\n",
        "    \"rfac0\": 0.99363,\n",
        "    \"rmin0\": 0.0,\n",
        "    \"wj\": 1.0,\n",
        "    \"radelem\": 0.5,\n",
        "    \"type\": \"H\",\n",
        "    \"wselfallflag\": 0,\n",
        "    \"chemflag\": 0,\n",
        "    \"bzeroflag\": 0,\n",
        "    \"quadraticflag\": 0,\n",
        "    },\n",
        "\"CALCULATOR\":\n",
        "    {\n",
        "    \"calculator\": \"LAMMPSSNAP\",\n",
        "    \"energy\": 1,\n",
        "    \"force\": 0,\n",
        "    \"stress\": 0\n",
        "    },\n",
        "\"ESHIFT\":\n",
        "    {\n",
        "    \"H\": 0.0\n",
        "    },\n",
        "\"SOLVER\":\n",
        "    {\n",
        "    \"solver\": \"SVD\",\n",
        "    \"compute_testerrs\": 1,\n",
        "    \"detailed_errors\": 1\n",
        "    },\n",
        "\"SCRAPER\":\n",
        "    {\n",
        "    \"scraper\": \"XYZ\"\n",
        "    },\n",
        "\"PATH\":\n",
        "    {\n",
        "    \"dataPath\": \"/content/sample_data/XYZ\"\n",
        "    },\n",
        "\"OUTFILE\":\n",
        "    {\n",
        "    \"metrics\": \"box_metrics.md\",\n",
        "    \"potential\": \"box_pot\"\n",
        "    },\n",
        "\"REFERENCE\":\n",
        "    {\n",
        "    \"units\": \"metal\",\n",
        "    \"atom_style\": \"atomic\",\n",
        "    \"pair_style\": \"hybrid/overlay zero 10.0 zbl 4.0 4.8\",\n",
        "    \"pair_coeff1\": \"* * zero\",\n",
        "    \"pair_coeff2\": \"* * zbl 73 73\"\n",
        "    },\n",
        "\"EXTRAS\":\n",
        "    {\n",
        "    \"dump_dataframe\": 1\n",
        "    },\n",
        "\"GROUPS\":\n",
        "    {\n",
        "    \"group_sections\": \"name training_size testing_size eweight fweight vweight\",\n",
        "    \"group_types\": \"str float float float float float\",\n",
        "    \"smartweights\": 0,\n",
        "    \"random_sampling\": 0,\n",
        "    \"box_d20_M24_NN0\" :  \"1.0    0.0       100             1               1.00E-08\"    }\n",
        "}"
      ]
    },
    {
      "cell_type": "markdown",
      "metadata": {
        "id": "PrCdTW41e7Hr"
      },
      "source": [
        "Create an instance of `fitsnap` by feeding this input dictionary, along with the optional communicator, into the `FitSnap` class."
      ]
    },
    {
      "cell_type": "code",
      "execution_count": 210,
      "metadata": {
        "id": "KJ7giGXPe7Hr"
      },
      "outputs": [],
      "source": [
        "fs = FitSnap(settings, comm=comm, arglist=[\"--overwrite\"])"
      ]
    },
    {
      "cell_type": "markdown",
      "metadata": {
        "id": "wysY0x73e7Hs"
      },
      "source": [
        "This creates a `fitsnap` instance which contains its own data, such as shared and distributed memory arrays in `fitsnap.pt`, and input settings in `fitsnap.config`. The shared and distributed memory arrays are associated with all processes in the supplied communicator `comm`."
      ]
    },
    {
      "cell_type": "markdown",
      "metadata": {
        "id": "h7NxHgsQe7Hs"
      },
      "source": [
        "Now we can use high-level library functions to perform a fit, with the following steps:\n",
        "1. Scrape data to fit to. This is parallelized over all processes in `comm` with data stored in the `fitsnap.data` dictionary. Each MPI process has a different list of `data` dictionaries.\n",
        "2. Calculate descriptors. This is parallelized over all processes in `comm` by operating on each configuration in `fitsnap.data`.\n",
        "3. Fit potential. This is not parallelized over processes in most basic examples, e.g. the SVD solver will use all the data in a shared array on rank 0, and perform a simple least squares fit."
      ]
    },
    {
      "cell_type": "markdown",
      "metadata": {
        "id": "oyjNWC9fe7Hs"
      },
      "source": [
        "### 1. Scrape data"
      ]
    },
    {
      "cell_type": "markdown",
      "metadata": {
        "id": "LAGR44Zte7Hs"
      },
      "source": [
        "This step collects data (configurations of atoms) and injects it into a list of `FitSnap` data dictionaries. Users are\n",
        "free to do this manually using their own formats. We will explore this option later in the tutorial. Here we provide a native\n",
        "high-level function `scrape_functions()` for this purpose. As an instance owned function, `scrape_configs()` will scrape\n",
        "according to the previously input `settings`. Most high-level functions in `FitSnap` act the same way; the `settings`\n",
        "determine the state of a `FitSnap` instance which then determines the behavior of the high-level functions."
      ]
    },
    {
      "cell_type": "code",
      "execution_count": 211,
      "metadata": {
        "id": "s58TwEB6e7Hs",
        "outputId": "fbeacaf7-a978-4c54-d754-359083dae306",
        "colab": {
          "base_uri": "https://localhost:8080/"
        }
      },
      "outputs": [
        {
          "output_type": "stream",
          "name": "stdout",
          "text": [
            "box_d20_M24_NN0 : Detected  1  fitting on  1  testing on  0\n",
            "'scrape_configs' took 6.20 ms on rank 0\n"
          ]
        }
      ],
      "source": [
        "fs.scrape_configs()"
      ]
    },
    {
      "cell_type": "markdown",
      "metadata": {
        "id": "CjVSITNJe7Hu"
      },
      "source": [
        "This generates a list of `FitSnap` data dictionaries:"
      ]
    },
    {
      "cell_type": "code",
      "execution_count": 124,
      "metadata": {
        "id": "VA7QI5AJe7Hu",
        "outputId": "ed429f6a-afae-4b9e-e2f5-bcea049a9d67",
        "colab": {
          "base_uri": "https://localhost:8080/"
        }
      },
      "outputs": [
        {
          "output_type": "stream",
          "name": "stdout",
          "text": [
            "1\n"
          ]
        }
      ],
      "source": [
        "print(len(fs.data))"
      ]
    },
    {
      "cell_type": "markdown",
      "metadata": {
        "id": "dpEzoIBYe7Hu"
      },
      "source": [
        "Each dictionary is formated like:"
      ]
    },
    {
      "cell_type": "code",
      "execution_count": 125,
      "metadata": {
        "id": "e4wdI_Gye7Hu",
        "outputId": "38204aee-2474-4def-c700-1b9753bde5ba",
        "colab": {
          "base_uri": "https://localhost:8080/"
        }
      },
      "outputs": [
        {
          "output_type": "stream",
          "name": "stdout",
          "text": [
            "{'pbc': [True, True, True], 'AtomTypes': ['H', 'H', 'H', 'H', 'H', 'H', 'H', 'H', 'H', 'H', 'H', 'H', 'H', 'H', 'H', 'H', 'H', 'H', 'H', 'H', 'H', 'H', 'H', 'H', 'H', 'H', 'H', 'H', 'H', 'H', 'H', 'H', 'H', 'H', 'H', 'H', 'H', 'H', 'H', 'H', 'H', 'H', 'H', 'H', 'H', 'H', 'H', 'H', 'H', 'H', 'H', 'H', 'H', 'H', 'H', 'H', 'H', 'H', 'H', 'H', 'H', 'H', 'H', 'H', 'H', 'H', 'H', 'H', 'H', 'H', 'H', 'H', 'H', 'H', 'H', 'H', 'H', 'H', 'H', 'H', 'H', 'H', 'H', 'H', 'H', 'H', 'H', 'H', 'H', 'H', 'H', 'H', 'H', 'H', 'H', 'H', 'H', 'H', 'H', 'H', 'H', 'H', 'H', 'H', 'H', 'H', 'H', 'H', 'H', 'H', 'H', 'H', 'H', 'H', 'H', 'H', 'H', 'H', 'H', 'H', 'H', 'H', 'H', 'H', 'H', 'H', 'H', 'H', 'H', 'H', 'H', 'H', 'H', 'H', 'H', 'H', 'H', 'H', 'H', 'H', 'H', 'H', 'H', 'H', 'H', 'H', 'H', 'H', 'H', 'H', 'H', 'H', 'H', 'H', 'H', 'H', 'H', 'H', 'H', 'H', 'H', 'H', 'H', 'H', 'H', 'H', 'H', 'H', 'H', 'H', 'H', 'H', 'H', 'H', 'H', 'H', 'H', 'H', 'H', 'H', 'H', 'H', 'H', 'H', 'H', 'H', 'H', 'H', 'H', 'H', 'H', 'H', 'H', 'H', 'H', 'H', 'H', 'H', 'H', 'H', 'H', 'H', 'H', 'H', 'H', 'H', 'H', 'H', 'H', 'H', 'H', 'H', 'H', 'H', 'H', 'H', 'H', 'H', 'H', 'H', 'H', 'H', 'H', 'H', 'H', 'H', 'H', 'H', 'H', 'H', 'H', 'H', 'H', 'H', 'H', 'H', 'H', 'H', 'H', 'H', 'H', 'H', 'H', 'H', 'H', 'H', 'H', 'H', 'H', 'H', 'H', 'H', 'H', 'H', 'H', 'H', 'H', 'H', 'H', 'H', 'H', 'H', 'H', 'H', 'H', 'H', 'H', 'H', 'H', 'H', 'H', 'H', 'H', 'H', 'H', 'H', 'H', 'H', 'H', 'H', 'H', 'H', 'H', 'H', 'H', 'H', 'H', 'H', 'H', 'H', 'H', 'H', 'H', 'H', 'H', 'H', 'H', 'H', 'H', 'H', 'H', 'H', 'H', 'H', 'H', 'H', 'H', 'H', 'H', 'H', 'H', 'H', 'H', 'H', 'H', 'H', 'H', 'H', 'H', 'H', 'H', 'H', 'H', 'H', 'H', 'H', 'H', 'H', 'H', 'H', 'H', 'H', 'H', 'H', 'H', 'H', 'H', 'H', 'H', 'H', 'H', 'H', 'H', 'H', 'H', 'H', 'H', 'H', 'H', 'H', 'H', 'H', 'H', 'H', 'H', 'H', 'H', 'H', 'H', 'H', 'H', 'H', 'H', 'H', 'H', 'H', 'H', 'H', 'H', 'H', 'H', 'H', 'H', 'H', 'H', 'H', 'H', 'H', 'H', 'H', 'H', 'H', 'H', 'H', 'H', 'H', 'H', 'H', 'H', 'H', 'H', 'H', 'H', 'H', 'H', 'H', 'H', 'H', 'H', 'H'], 'Stress': array([[0, 0, 0],\n",
            "       [0, 0, 0],\n",
            "       [0, 0, 0]]), 'Energy': 1.0, 'Positions': array([[ 1.59228984, 15.95869487,  0.        ],\n",
            "       [15.319218  ,  9.98334876,  0.        ],\n",
            "       [ 8.84225763,  6.75469859,  0.        ],\n",
            "       ...,\n",
            "       [ 5.3055814 , 19.42996952,  0.        ],\n",
            "       [ 8.30231644, 18.89733842,  0.        ],\n",
            "       [17.62507348,  9.54049725,  0.        ]]), 'Forces': array([[0., 0., 0.],\n",
            "       [0., 0., 0.],\n",
            "       [0., 0., 0.],\n",
            "       ...,\n",
            "       [0., 0., 0.],\n",
            "       [0., 0., 0.],\n",
            "       [0., 0., 0.]]), 'NumAtoms': 400, 'Group': 'box_d20_M24_NN0', 'File': 'box_d20_M24_NN0.xyz', 'QMLattice': array([[20.,  0.,  0.],\n",
            "       [ 0., 20.,  0.],\n",
            "       [ 0.,  0., 20.]]), 'test_bool': 0, 'Lattice': array([[20.,  0.,  0.],\n",
            "       [ 0., 20.,  0.],\n",
            "       [ 0.,  0., 20.]]), 'Rotation': array([[1., 0., 0.],\n",
            "       [0., 1., 0.],\n",
            "       [0., 0., 1.]]), 'Translation': array([[0., 0., 0.],\n",
            "       [0., 0., 0.],\n",
            "       [0., 0., 0.],\n",
            "       ...,\n",
            "       [0., 0., 0.],\n",
            "       [0., 0., 0.],\n",
            "       [0., 0., 0.]]), 'eweight': 100.0, 'fweight': 1.0, 'vweight': 1e-08}\n"
          ]
        }
      ],
      "source": [
        "print(fs.data[0])"
      ]
    },
    {
      "cell_type": "markdown",
      "metadata": {
        "id": "hM5r86h2e7Hu"
      },
      "source": [
        "This is the format used by `FitSnap` to feed data into LAMMPS for descriptor calculations in the next step."
      ]
    },
    {
      "cell_type": "markdown",
      "metadata": {
        "id": "cUYzO4kge7Hv"
      },
      "source": [
        "### 2. Calculate descriptors"
      ]
    },
    {
      "cell_type": "markdown",
      "metadata": {
        "id": "RNPlZDwse7Hv"
      },
      "source": [
        "Here we use the native high-level `process_configs()` function, which does the following:\n",
        "- Allocates shared memory arrays (if using MPI) to store descriptor and fitting information.\n",
        "- Loop through all the configurations in the `fitsnap.data` list of dictionaries containing configuration info.\n",
        "- Calculate descriptors for these configurations and store the information in the shared arrays `fitsnap.pt.shared_arrays`."
      ]
    },
    {
      "cell_type": "code",
      "execution_count": 212,
      "metadata": {
        "id": "ISn-iTcSe7Hv",
        "outputId": "0a2f6690-a013-4d4e-c297-6b3729612495",
        "colab": {
          "base_uri": "https://localhost:8080/"
        }
      },
      "outputs": [
        {
          "output_type": "stream",
          "name": "stdout",
          "text": [
            "'process_configs' took 284.46 ms on rank 0\n"
          ]
        }
      ],
      "source": [
        "fs.process_configs()"
      ]
    },
    {
      "cell_type": "code",
      "source": [
        "fs.pt.shared_arrays.values()"
      ],
      "metadata": {
        "colab": {
          "base_uri": "https://localhost:8080/"
        },
        "id": "4McNE0SJaVyO",
        "outputId": "399f2fc0-dd4e-47f4-ce40-73d68425feca"
      },
      "execution_count": 213,
      "outputs": [
        {
          "output_type": "execute_result",
          "data": {
            "text/plain": [
              "dict_values([<fitsnap3lib.parallel_tools.SharedArray object at 0x7ee742968a00>, <fitsnap3lib.parallel_tools.SharedArray object at 0x7ee74297e860>, <fitsnap3lib.parallel_tools.SharedArray object at 0x7ee73f9df070>, <fitsnap3lib.parallel_tools.SharedArray object at 0x7ee74296a890>, <fitsnap3lib.parallel_tools.SharedArray object at 0x7ee742969f30>, <fitsnap3lib.parallel_tools.SharedArray object at 0x7ee74296a950>, <fitsnap3lib.parallel_tools.SharedArray object at 0x7ee74296bf10>])"
            ]
          },
          "metadata": {},
          "execution_count": 213
        }
      ]
    },
    {
      "cell_type": "markdown",
      "metadata": {
        "id": "12UnmAJae7Hw"
      },
      "source": [
        "### 3. Perform fit"
      ]
    },
    {
      "cell_type": "markdown",
      "metadata": {
        "id": "3OIoM9jKe7Hw"
      },
      "source": [
        "Fit a model with the native high-level `perform_fit()` function, which does the following:\n",
        "\n",
        "- Solves the ML problem to get model coefficients, such as with linear regression or NNs, depending on the choice of\n",
        "  solver in the `settings` dictionary.\n",
        "- Analyze errors associated with the fits, which are stored in the `fitsnap.solver.errors` dataframe."
      ]
    },
    {
      "cell_type": "code",
      "execution_count": 215,
      "metadata": {
        "id": "DPe08MWbe7Hw",
        "outputId": "5c4c5abd-553f-47b3-d34a-5718b2d7d6cc",
        "colab": {
          "base_uri": "https://localhost:8080/"
        }
      },
      "outputs": [
        {
          "output_type": "stream",
          "name": "stdout",
          "text": [
            "'fit' took 0.30 ms on rank 0\n",
            "'error_analysis' took 23.49 ms on rank 0\n"
          ]
        },
        {
          "output_type": "stream",
          "name": "stderr",
          "text": [
            "/content/FitSNAP/fitsnap3lib/solvers/solver.py:126: RuntimeWarning: divide by zero encountered in scalar divide\n",
            "  rsq = 1 - ssr / np.sum(np.square(g['truths'] - (g['truths'] / nconfig).sum()))\n",
            "/content/FitSNAP/fitsnap3lib/solvers/solver.py:133: RuntimeWarning: divide by zero encountered in scalar divide\n",
            "  w_rsq = 1 - w_ssr / np.sum(np.square((g['weights'] * g['truths']) - (g['weights'] * g['truths'] / w_nconfig).sum()))\n",
            "/content/FitSNAP/fitsnap3lib/solvers/solver.py:126: RuntimeWarning: divide by zero encountered in scalar divide\n",
            "  rsq = 1 - ssr / np.sum(np.square(g['truths'] - (g['truths'] / nconfig).sum()))\n",
            "/content/FitSNAP/fitsnap3lib/solvers/solver.py:133: RuntimeWarning: divide by zero encountered in scalar divide\n",
            "  w_rsq = 1 - w_ssr / np.sum(np.square((g['weights'] * g['truths']) - (g['weights'] * g['truths'] / w_nconfig).sum()))\n"
          ]
        }
      ],
      "source": [
        "fs.perform_fit()#a, B_, None,  a[:30]"
      ]
    },
    {
      "cell_type": "markdown",
      "metadata": {
        "id": "AGOcyFAOe7Hy"
      },
      "source": [
        "Useful objects generated by this fit:"
      ]
    },
    {
      "cell_type": "code",
      "execution_count": 218,
      "metadata": {
        "id": "fc8czHt6e7Hy",
        "outputId": "8f662210-6e8b-466f-a9d5-3adb4f673609",
        "colab": {
          "base_uri": "https://localhost:8080/"
        }
      },
      "outputs": [
        {
          "output_type": "stream",
          "name": "stdout",
          "text": [
            "                                               ncount           mae  \\\n",
            "Group           Weighting  Testing  Subsystem                         \n",
            "*ALL            Unweighted Training Energy          1  2.273737e-13   \n",
            "                weighted   Training Energy          1  2.273737e-11   \n",
            "box_d20_M24_NN0 Unweighted Training Energy          1  2.273737e-13   \n",
            "                weighted   Training Energy          1  2.273737e-11   \n",
            "\n",
            "                                                       rmse  rsq  \n",
            "Group           Weighting  Testing  Subsystem                     \n",
            "*ALL            Unweighted Training Energy     2.273737e-13 -inf  \n",
            "                weighted   Training Energy     2.273737e-11 -inf  \n",
            "box_d20_M24_NN0 Unweighted Training Energy     2.273737e-13 -inf  \n",
            "                weighted   Training Energy     2.273737e-11 -inf  \n"
          ]
        }
      ],
      "source": [
        "# Dataframe of detailed errors per group.\n",
        "print(fs.solver.errors)"
      ]
    },
    {
      "cell_type": "code",
      "execution_count": 217,
      "metadata": {
        "id": "e3Yx9bbQe7Hy",
        "outputId": "674ee6e2-a449-4adb-b7ca-da07f44732ae",
        "colab": {
          "base_uri": "https://localhost:8080/"
        }
      },
      "outputs": [
        {
          "output_type": "stream",
          "name": "stdout",
          "text": [
            "[-1.38759801e-05 -1.18359909e-01 -6.58584705e-03 -7.88707768e-04\n",
            " -3.98537144e-02 -1.39321476e-03  1.29602169e-02 -1.32956150e-02\n",
            " -2.72892976e-03 -5.69409566e-04  6.92157096e-04 -7.69567418e-04\n",
            " -1.66046287e-04 -3.52123185e-04 -2.43019205e-02 -8.37083880e-04\n",
            "  7.74587670e-03 -8.02699721e-03  2.78980129e-04 -4.78852801e-03\n",
            "  4.63536656e-03 -3.31927377e-03 -6.12390048e-04  1.82762113e-04\n",
            " -9.97978882e-05 -3.52299232e-04  3.28945298e-05 -2.02068832e-02\n",
            "  4.90020513e-03 -3.62960681e-03  2.20564248e-03]\n"
          ]
        }
      ],
      "source": [
        "# List of fitting coefficients (for linear models).\n",
        "print(fs.solver.fit)"
      ]
    },
    {
      "cell_type": "code",
      "execution_count": null,
      "metadata": {
        "id": "dj1Nrq8Le7Hy"
      },
      "outputs": [],
      "source": [
        "# Dataframe containing all fitting info and metrics.\n",
        "print(fs.solver.df)"
      ]
    },
    {
      "cell_type": "markdown",
      "metadata": {
        "id": "uJV1CzoTe7Hy"
      },
      "source": [
        "### 4. Writing output files"
      ]
    },
    {
      "cell_type": "code",
      "execution_count": null,
      "metadata": {
        "id": "VPqXEYyxe7Hz"
      },
      "outputs": [],
      "source": [
        "# Write LAMMPS potential files.\n",
        "fs.output.write_lammps(fs.solver.fit)\n",
        "# Write error analysis.\n",
        "fs.output.write_errors(fs.solver.errors)\n",
        "# Look at files:\n",
        "!ls"
      ]
    },
    {
      "cell_type": "markdown",
      "metadata": {
        "id": "qT0sUMqee7Hz"
      },
      "source": [
        "# Perform fits on multiple instances with different settings"
      ]
    },
    {
      "cell_type": "markdown",
      "metadata": {
        "id": "acR9zjx9e7Hz"
      },
      "source": [
        "Let's say we want to perform multiple fits with different settings, like different `twojmax` values."
      ]
    },
    {
      "cell_type": "code",
      "execution_count": null,
      "metadata": {
        "id": "81jsAEoNe7Hz"
      },
      "outputs": [],
      "source": [
        "# Make list of twojmax values to scan:\n",
        "twojmax_list = [2,4,6,8,10]\n",
        "# Make list of settings for each twojmax:\n",
        "from copy import deepcopy\n",
        "settings_list = [deepcopy(settings) for i in twojmax_list]\n",
        "for i, twojmax in enumerate(twojmax_list):\n",
        "    settings_list[i][\"BISPECTRUM\"][\"twojmax\"] = twojmax\n",
        "\n",
        "print(len(settings_list))"
      ]
    },
    {
      "cell_type": "markdown",
      "metadata": {
        "id": "hiKA31x6e7H0"
      },
      "source": [
        "Make a list of `FitSnap` instances, each with different settings:"
      ]
    },
    {
      "cell_type": "code",
      "execution_count": null,
      "metadata": {
        "id": "tSwq7PwUe7H0"
      },
      "outputs": [],
      "source": [
        "instances = [FitSnap(setting, comm=comm, arglist=[\"--overwrite\"]) for setting in settings_list]\n",
        "print(instances)"
      ]
    },
    {
      "cell_type": "markdown",
      "metadata": {
        "id": "-eR3cBkke7H1"
      },
      "source": [
        "Loop over all instances and fit:"
      ]
    },
    {
      "cell_type": "code",
      "execution_count": null,
      "metadata": {
        "id": "eXrACNHve7H1"
      },
      "outputs": [],
      "source": [
        "for i, instance in enumerate(instances):\n",
        "    print(f\"--- Instance {i} with twojmax = {instance.config.sections['BISPECTRUM'].twojmax}\")\n",
        "    # No need to scrape configurations again, just use the previously scraped configs by injecting\n",
        "    # the previous instance data into this instance data.\n",
        "    instance.process_configs(data=fs.data)\n",
        "    # Perform fit using the internal fitting data of this instance.\n",
        "    instance.perform_fit()\n",
        "    # Grab errors.\n",
        "    f_mae = instance.solver.errors['mae'][('*ALL', 'Unweighted', 'Training', 'Force')]\n",
        "    e_mae = instance.solver.errors['mae'][('*ALL', 'Unweighted', 'Training', 'Energy')]"
      ]
    },
    {
      "cell_type": "markdown",
      "metadata": {
        "id": "G1CPrUAVe7H1"
      },
      "source": [
        "Look at the errors:"
      ]
    },
    {
      "cell_type": "code",
      "execution_count": null,
      "metadata": {
        "id": "ybLV6gGhe7H2"
      },
      "outputs": [],
      "source": [
        "# Now each instance contains fitting information (configurations and their descriptors) and errors.\n",
        "for instance in instances:\n",
        "    # Extract specific errors from the errors dataframe.\n",
        "    # NOTE: No `Testing` key will exist if no testing groups were defined in `settings`.\n",
        "    ftest_mae = instance.solver.errors['mae'][('*ALL', 'Unweighted', 'Training', 'Force')]\n",
        "    etest_mae = instance.solver.errors['mae'][('*ALL', 'Unweighted', 'Training', 'Energy')]\n",
        "    print(f\"{instance.config.sections['BISPECTRUM'].twojmax[0]} \\\n",
        "          {ftest_mae:0.5f}     {etest_mae:0.5f}\")"
      ]
    },
    {
      "cell_type": "markdown",
      "metadata": {
        "id": "Ycups00ge7H2"
      },
      "source": [
        "#### Note on shared memory (if using MPI).\n",
        "If using MPI, each instance allocates shared memory for storing the parallel arrays. Users must therefore take care to not allocate too many `FitSnap` instances, and to properly free memory associated with unused instances. We free shared array memory by overriding the `del` statement in `FitSnap`:"
      ]
    },
    {
      "cell_type": "code",
      "execution_count": null,
      "metadata": {
        "id": "XOPH5qTXe7H2"
      },
      "outputs": [],
      "source": [
        "# Free shared memory of all instances (only necessary if using MPI):\n",
        "for instance in instances:\n",
        "    del instance"
      ]
    },
    {
      "cell_type": "markdown",
      "metadata": {
        "id": "qHstqNOfe7H3"
      },
      "source": [
        "This example looped over fits sequentially, where each fit shared the same communicator. One could however use split communicators to achieve fits in parallel."
      ]
    },
    {
      "cell_type": "markdown",
      "metadata": {
        "id": "05PZlvy7e7H3"
      },
      "source": [
        "# How to just get the descriptors for a data set?"
      ]
    },
    {
      "cell_type": "markdown",
      "metadata": {
        "id": "8e_ndZCne7H4"
      },
      "source": [
        "### Extracting SNAP descriptors."
      ]
    },
    {
      "cell_type": "markdown",
      "metadata": {
        "id": "_aMw5kFpe7H3"
      },
      "source": [
        "Sometimes we want to simply extract descriptors for data analysis without going through the pain of\n",
        "performing a fit.\n",
        "\n",
        "TODO: Show example of extracting descriptors from configs then doing data analysis (t-SNE)"
      ]
    },
    {
      "cell_type": "markdown",
      "metadata": {
        "id": "xmbb3s3Pe7H6"
      },
      "source": [
        "Loop over configurations and calculate descriptors for each separately."
      ]
    },
    {
      "cell_type": "markdown",
      "metadata": {
        "id": "xVzIw1zme7H6"
      },
      "source": [
        "Use our ASE scraper to inject a list of `Atoms` objects into a particular instance:"
      ]
    },
    {
      "cell_type": "markdown",
      "metadata": {
        "id": "izyZTeUee7H4"
      },
      "source": [
        "If we're only calculating descriptors, we just need a simple `settings` dictionary."
      ]
    },
    {
      "cell_type": "code",
      "execution_count": 147,
      "metadata": {
        "id": "WWJ19bWqe7H4"
      },
      "outputs": [],
      "source": [
        "settings = \\\n",
        "{\n",
        "\"BISPECTRUM\":\n",
        "    {\n",
        "    \"numTypes\": 1,\n",
        "    \"twojmax\": 6,\n",
        "    \"rcutfac\": 5.0,\n",
        "    \"rfac0\": 0.99363,\n",
        "    \"rmin0\": 0.0,\n",
        "    \"wj\": 1.0,\n",
        "    \"radelem\": 0.5,\n",
        "    \"type\": \"H\",\n",
        "    \"wselfallflag\": 0,\n",
        "    \"bzeroflag\": 1,\n",
        "    \"bikflag\": 1\n",
        "    },\n",
        "\"CALCULATOR\":\n",
        "    {\n",
        "    \"calculator\": \"LAMMPSSNAP\",\n",
        "    \"energy\": 1,\n",
        "    \"force\": 0,\n",
        "    \"stress\": 0,\n",
        "    \"per_atom_energy\": 1\n",
        "    },\n",
        "\"REFERENCE\":\n",
        "    {\n",
        "    \"units\": \"micro\",\n",
        "    \"atom_style\": \"atomic\",\n",
        "    \"pair_style\": \"zero 6.0\",\n",
        "    \"pair_coeff\": \"* *\"\n",
        "    }\n",
        "}"
      ]
    },
    {
      "cell_type": "markdown",
      "metadata": {
        "id": "hTWcVqCoe7H5"
      },
      "source": [
        "Get data from ASE `Atoms` objects:"
      ]
    },
    {
      "cell_type": "code",
      "execution_count": 148,
      "metadata": {
        "id": "2iJrsA0Ue7H5"
      },
      "outputs": [],
      "source": [
        "fs = FitSnap(settings, arglist=[\"--overwrite\"])"
      ]
    },
    {
      "cell_type": "markdown",
      "metadata": {
        "id": "xnTtKDI7e7H7"
      },
      "source": [
        "### Extracting ACE descriptors."
      ]
    },
    {
      "cell_type": "markdown",
      "metadata": {
        "id": "zzED4h-te7H5"
      },
      "source": [
        "Make an instance like usual:"
      ]
    },
    {
      "cell_type": "code",
      "execution_count": 51,
      "metadata": {
        "id": "ZcUXx-VFe7H6",
        "outputId": "bbcf7da7-0a98-4331-a2ea-f6bfeecb488a",
        "colab": {
          "base_uri": "https://localhost:8080/"
        }
      },
      "outputs": [
        {
          "output_type": "stream",
          "name": "stdout",
          "text": [
            "Requirement already satisfied: ase in /usr/local/lib/python3.10/dist-packages (3.23.0)\n",
            "Requirement already satisfied: numpy>=1.18.5 in /usr/local/lib/python3.10/dist-packages (from ase) (1.25.2)\n",
            "Requirement already satisfied: scipy>=1.6.0 in /usr/local/lib/python3.10/dist-packages (from ase) (1.11.4)\n",
            "Requirement already satisfied: matplotlib>=3.3.4 in /usr/local/lib/python3.10/dist-packages (from ase) (3.7.1)\n",
            "Requirement already satisfied: contourpy>=1.0.1 in /usr/local/lib/python3.10/dist-packages (from matplotlib>=3.3.4->ase) (1.2.1)\n",
            "Requirement already satisfied: cycler>=0.10 in /usr/local/lib/python3.10/dist-packages (from matplotlib>=3.3.4->ase) (0.12.1)\n",
            "Requirement already satisfied: fonttools>=4.22.0 in /usr/local/lib/python3.10/dist-packages (from matplotlib>=3.3.4->ase) (4.53.1)\n",
            "Requirement already satisfied: kiwisolver>=1.0.1 in /usr/local/lib/python3.10/dist-packages (from matplotlib>=3.3.4->ase) (1.4.5)\n",
            "Requirement already satisfied: packaging>=20.0 in /usr/local/lib/python3.10/dist-packages (from matplotlib>=3.3.4->ase) (24.1)\n",
            "Requirement already satisfied: pillow>=6.2.0 in /usr/local/lib/python3.10/dist-packages (from matplotlib>=3.3.4->ase) (9.4.0)\n",
            "Requirement already satisfied: pyparsing>=2.3.1 in /usr/local/lib/python3.10/dist-packages (from matplotlib>=3.3.4->ase) (3.1.2)\n",
            "Requirement already satisfied: python-dateutil>=2.7 in /usr/local/lib/python3.10/dist-packages (from matplotlib>=3.3.4->ase) (2.8.2)\n",
            "Requirement already satisfied: six>=1.5 in /usr/local/lib/python3.10/dist-packages (from python-dateutil>=2.7->matplotlib>=3.3.4->ase) (1.16.0)\n",
            "\u001b[33mWARNING: Running pip as the 'root' user can result in broken permissions and conflicting behaviour with the system package manager, possibly rendering your system unusable.It is recommended to use a virtual environment instead: https://pip.pypa.io/warnings/venv. Use the --root-user-action option if you know what you are doing and want to suppress this warning.\u001b[0m\u001b[33m\n",
            "\u001b[0m<class 'list'>\n"
          ]
        }
      ],
      "source": [
        "!pip install ase\n",
        "from ase.io import read"
      ]
    },
    {
      "cell_type": "code",
      "execution_count": 150,
      "metadata": {
        "id": "NTsQxtDye7H6"
      },
      "outputs": [],
      "source": [
        "from fitsnap3lib.scrapers.ase_funcs import ase_scraper\n",
        "data = ase_scraper(frames)"
      ]
    },
    {
      "cell_type": "code",
      "source": [
        "frames = read(\"/content/sample_data/XYZ/box_d20_M24_NN0.xyz\", \":\")\n",
        "print(type(frames))"
      ],
      "metadata": {
        "colab": {
          "base_uri": "https://localhost:8080/"
        },
        "id": "rYWUiPGU50qw",
        "outputId": "2a784f43-1997-4909-ac31-a97de1b363ed"
      },
      "execution_count": 149,
      "outputs": [
        {
          "output_type": "stream",
          "name": "stdout",
          "text": [
            "<class 'list'>\n"
          ]
        }
      ]
    },
    {
      "cell_type": "code",
      "execution_count": 152,
      "metadata": {
        "id": "Ut5iZNuIe7H7",
        "outputId": "b8919534-d893-4e40-93b4-faa4d778d72f",
        "colab": {
          "base_uri": "https://localhost:8080/"
        }
      },
      "outputs": [
        {
          "output_type": "stream",
          "name": "stdout",
          "text": [
            "0\n",
            "(400, 30)\n"
          ]
        }
      ],
      "source": [
        "for i, configuration in enumerate(data):\n",
        "    print(i)\n",
        "    a,b,w = fs.calculator.process_single(configuration)\n",
        "    print(np.shape(a))"
      ]
    },
    {
      "cell_type": "markdown",
      "source": [
        "### WARNING: ACE descriptors are not supported in colab yet."
      ],
      "metadata": {
        "id": "x0gGgVIG0Jpw"
      }
    },
    {
      "cell_type": "markdown",
      "metadata": {
        "id": "19gElwfGe7H7"
      },
      "source": [
        "Declare settings dictionary:"
      ]
    },
    {
      "cell_type": "code",
      "execution_count": null,
      "metadata": {
        "id": "bLAH-gS1e7H8"
      },
      "outputs": [],
      "source": [
        "settings = \\\n",
        "{\n",
        "\"ACE\":\n",
        "    {\n",
        "    \"numTypes\": 1,\n",
        "    \"ranks\": \"1 2 3\",\n",
        "    \"lmax\":  \"1 2 2\",\n",
        "    \"nmax\": \"22 2 2\",\n",
        "    \"nmaxbase\": 22,\n",
        "    \"rcutfac\": 4.604694451,\n",
        "    \"lambda\": 3.5,\n",
        "    \"type\": \"Ta\",\n",
        "    \"lmin\": 0,\n",
        "    \"bzeroflag\": 1,\n",
        "    \"bikflag\": 1,\n",
        "    \"RPI_heuristic\": \"root_SO3_span\"\n",
        "    },\n",
        "\"CALCULATOR\":\n",
        "    {\n",
        "    \"calculator\": \"LAMMPSPACE\",\n",
        "    \"energy\": 1,\n",
        "    \"force\": 0,\n",
        "    \"stress\": 0,\n",
        "    \"per_atom_energy\": 1\n",
        "    },\n",
        "\"REFERENCE\":\n",
        "    {\n",
        "    \"units\": \"metal\",\n",
        "    \"atom_style\": \"atomic\",\n",
        "    \"pair_style\": \"zero 6.0\",\n",
        "    \"pair_coeff\": \"* *\"\n",
        "    }\n",
        "}"
      ]
    },
    {
      "cell_type": "markdown",
      "metadata": {
        "id": "UL00cmwqe7H8"
      },
      "source": [
        "Make `FitSnap` instance:"
      ]
    },
    {
      "cell_type": "code",
      "execution_count": null,
      "metadata": {
        "id": "L28hv8vPe7H9"
      },
      "outputs": [],
      "source": [
        "fs = FitSnap(settings, arglist=[\"--overwrite\"])"
      ]
    },
    {
      "cell_type": "markdown",
      "metadata": {
        "id": "erHLpXJ7e7H9"
      },
      "source": [
        "Get configurations from somewhere (e.g. ASE):"
      ]
    },
    {
      "cell_type": "code",
      "execution_count": null,
      "metadata": {
        "id": "_SuZq3hve7H9"
      },
      "outputs": [],
      "source": [
        "from ase.io import read\n",
        "from fitsnap3lib.scrapers.ase_funcs import ase_scraper\n",
        "frames = read(\"examples/Ta_XYZ/XYZ/Displaced_FCC.xyz\", \":\")\n",
        "data = ase_scraper(frames)"
      ]
    },
    {
      "cell_type": "markdown",
      "metadata": {
        "id": "kK7lTwfue7H9"
      },
      "source": [
        "Now this `FitSnap` instance has a list of dictionaries containing structural info:"
      ]
    },
    {
      "cell_type": "code",
      "execution_count": null,
      "metadata": {
        "id": "aqGBsNuTe7H-"
      },
      "outputs": [],
      "source": [
        "print(len(data))"
      ]
    },
    {
      "cell_type": "markdown",
      "metadata": {
        "id": "3XfFatkSe7H-"
      },
      "source": [
        "Loop over these configurations and calculate ACE descriptors:"
      ]
    },
    {
      "cell_type": "code",
      "execution_count": null,
      "metadata": {
        "id": "rZC3ML58e7H-"
      },
      "outputs": [],
      "source": [
        "for i, configuration in enumerate(data):\n",
        "    print(i)\n",
        "    a,b,w = fs.calculator.process_single(configuration)\n",
        "    print(np.shape(a))"
      ]
    },
    {
      "cell_type": "markdown",
      "metadata": {
        "id": "UPTmgmNge7H_"
      },
      "source": [
        "# How to process configs once then do multiple fits?"
      ]
    },
    {
      "cell_type": "markdown",
      "metadata": {
        "id": "bbw7tTPve7H_"
      },
      "source": [
        "This is useful if doing many fits with the same calculator (descriptor) settings but different solver settings. We can do this by:\n",
        "\n",
        "1. Using one `FitSnap` instance to process configs and store data in its shared arrays.\n",
        "2. Using this data as input to the solver functions of another instance.\n",
        "\n",
        "First let's make an instance for calculating descriptors.\n"
      ]
    },
    {
      "cell_type": "code",
      "execution_count": null,
      "metadata": {
        "id": "0GubKP0Ee7H_"
      },
      "outputs": [],
      "source": [
        "settings = \\\n",
        "{\n",
        "\"BISPECTRUM\":\n",
        "    {\n",
        "    \"numTypes\": 1,\n",
        "    \"twojmax\": 6,\n",
        "    \"rcutfac\": 4.67637,\n",
        "    \"rfac0\": 0.99363,\n",
        "    \"rmin0\": 0.0,\n",
        "    \"wj\": 1.0,\n",
        "    \"radelem\": 0.5,\n",
        "    \"type\": \"Ta\",\n",
        "    \"wselfallflag\": 0,\n",
        "    \"chemflag\": 0,\n",
        "    \"bzeroflag\": 1,\n",
        "    \"bikflag\": 1,\n",
        "    \"dgradflag\": 1\n",
        "    },\n",
        "\"CALCULATOR\":\n",
        "    {\n",
        "    \"calculator\": \"LAMMPSSNAP\",\n",
        "    \"energy\": 1,\n",
        "    \"force\": 1,\n",
        "    \"per_atom_energy\": 1,\n",
        "    \"nonlinear\": 1\n",
        "    },\n",
        "\"PYTORCH\":\n",
        "    {\n",
        "    \"layer_sizes\": \"num_desc 64 64 1\",\n",
        "    \"learning_rate\": 1e-4,\n",
        "    \"num_epochs\": 10,\n",
        "    \"batch_size\": 4, # 363 configs in entire set\n",
        "    \"save_state_output\": \"Ta_Pytorch.pt\"\n",
        "    },\n",
        "\"SOLVER\":\n",
        "    {\n",
        "    \"solver\": \"PYTORCH\"\n",
        "    },\n",
        "\"SCRAPER\":\n",
        "    {\n",
        "    \"scraper\": \"JSON\"\n",
        "    },\n",
        "\"PATH\":\n",
        "    {\n",
        "    \"dataPath\": \"examples/Ta_Linear_JCP2014/JSON\"\n",
        "    },\n",
        "\"REFERENCE\":\n",
        "    {\n",
        "    \"units\": \"metal\",\n",
        "    \"atom_style\": \"atomic\",\n",
        "    \"pair_style\": \"hybrid/overlay zero 6.0 zbl 4.0 4.8\",\n",
        "    \"pair_coeff1\": \"* * zero\",\n",
        "    \"pair_coeff2\": \"* * zbl 73 73\"\n",
        "    },\n",
        "\"GROUPS\":\n",
        "    {\n",
        "    \"group_sections\": \"name training_size testing_size eweight fweight\",\n",
        "    \"group_types\": \"str float float float float\",\n",
        "    \"smartweights\": 0,\n",
        "    \"random_sampling\": 0,\n",
        "    \"Displaced_A15\" :  \"0.7 0.3 1e-2 1\",\n",
        "    \"Displaced_BCC\" :  \"0.7 0.3 1e-2 1\",\n",
        "    \"Displaced_FCC\" :  \"0.7 0.3 1e-2 1\",\n",
        "    \"Elastic_BCC\"   :  \"0.7 0.3 1e-2 1\",\n",
        "    \"Elastic_FCC\"   :  \"0.7 0.3 1e-2 1\",\n",
        "    \"GSF_110\"       :  \"0.7 0.3 1e-2 1\",\n",
        "    \"GSF_112\"       :  \"0.7 0.3 1e-2 1\",\n",
        "    \"Liquid\"        :  \"0.7 0.3 1e-2 1\",\n",
        "    \"Surface\"       :  \"0.7 0.3 1e-2 1\",\n",
        "    \"Volume_A15\"    :  \"0.7 0.3 1e-2 1\",\n",
        "    \"Volume_BCC\"    :  \"0.7 0.3 1e-2 1\",\n",
        "    \"Volume_FCC\"    :  \"0.7 0.3 1e-2 1\"\n",
        "    }\n",
        "}"
      ]
    },
    {
      "cell_type": "code",
      "execution_count": null,
      "metadata": {
        "id": "4iJ3YpN1e7H_"
      },
      "outputs": [],
      "source": [
        "fs1 = FitSnap(settings, arglist=[\"--overwrite\"])\n",
        "fs1.scrape_configs()\n",
        "fs1.process_configs()"
      ]
    },
    {
      "cell_type": "markdown",
      "metadata": {
        "id": "hklmkRWUe7IA"
      },
      "source": [
        "Now use the descriptor data from this instance (which is stored in `fs1.pt`), to perform many fits\n",
        "with other instances possessing different settings."
      ]
    },
    {
      "cell_type": "code",
      "execution_count": null,
      "metadata": {
        "id": "EMFqFUVBe7IA"
      },
      "outputs": [],
      "source": [
        "# Fit with one learning rate:\n",
        "settings2 = deepcopy(settings)\n",
        "settings2[\"PYTORCH\"][\"learning_rate\"] = 1e-3\n",
        "fs2 = FitSnap(settings2, arglist=[\"--overwrite\"])\n",
        "# Fit with the shared array data from instance `fs1`.\n",
        "fs2.solver.perform_fit(pt=fs1.pt)"
      ]
    },
    {
      "cell_type": "code",
      "execution_count": null,
      "metadata": {
        "id": "mQM_FtsOe7IB"
      },
      "outputs": [],
      "source": [
        "# Fit with a larger learning rate:\n",
        "settings3 = deepcopy(settings)\n",
        "settings3[\"PYTORCH\"][\"learning_rate\"] = 1e-6\n",
        "fs3 = FitSnap(settings3, arglist=[\"--overwrite\"])\n",
        "# Fit with the shared array data from instance `fs1`.\n",
        "fs3.solver.perform_fit(pt=fs1.pt)"
      ]
    },
    {
      "cell_type": "markdown",
      "metadata": {
        "id": "TlE1PpeMe7IB"
      },
      "source": [
        "Get errors of the two instances."
      ]
    },
    {
      "cell_type": "code",
      "execution_count": null,
      "metadata": {
        "id": "nMyCMOHGe7IB"
      },
      "outputs": [],
      "source": [
        "# For NNs, `solver.errors` is currently a tuple of dictionaries.\n",
        "# Errors for larger learning rate:\n",
        "fs2.solver.error_analysis()\n",
        "(mae_f, mae_e, rmse_f, rmse_e, count_train, count_test) = fs2.solver.errors\n",
        "# Look at force MAE of specific group:\n",
        "print(mae_f[\"Displaced_A15\"])"
      ]
    },
    {
      "cell_type": "code",
      "execution_count": null,
      "metadata": {
        "id": "K9JbIPFne7IB"
      },
      "outputs": [],
      "source": [
        "# Errors for smaller learning rate:\n",
        "fs3.solver.error_analysis()\n",
        "(mae_f, mae_e, rmse_f, rmse_e, count_train, count_test) = fs3.solver.errors\n",
        "# Look at force MAE of specific group:\n",
        "print(mae_f[\"Displaced_A15\"])"
      ]
    },
    {
      "cell_type": "markdown",
      "metadata": {
        "id": "9zvAMl-pe7IC"
      },
      "source": [
        "# Hiearchical parallelism with custom communicators"
      ]
    },
    {
      "cell_type": "markdown",
      "metadata": {
        "id": "Dx_j1h2Ge7IC"
      },
      "source": [
        "These simple examples all used a single world communicator. Our design, however, allows one to create many instances each with a different communicator, to get creative with how fits are done in parallel. For example one could split the communicator among a group of processes, and then perform multiple fits *in parallel*, where each fit is performed in parallel using the processes in its communicator. This is beyond the scope of a iPython notebook since it requires making custom Python scripts with MPI."
      ]
    },
    {
      "cell_type": "markdown",
      "metadata": {
        "id": "3bNbup_pe7IC"
      },
      "source": [
        "# How do the shared arrays work?"
      ]
    },
    {
      "cell_type": "markdown",
      "metadata": {
        "id": "xCIWb-DPe7ID"
      },
      "source": [
        "Each `FitSnap` instance contains shared arrays inside the `snap.pt.shared_arrays` dictionary. The descriptor array is stored in `snap.pt.shared_arrays['a'].array`. The contents of this array are shared in memory between all processes in the instance communicator `snap.pt._comm` (this is the same communicator we passed when creating the instance). This means that when an element of the shared array is changed on one process in `comm`, it will change the shared array with all other processes in the same communicator. This is important because although each `snap.pt` instance is different for all processes in a communicator, the contents `snap.pt.shared_arrays['a'].array` are shared."
      ]
    }
  ],
  "metadata": {
    "colab": {
      "provenance": [],
      "machine_shape": "hm",
      "include_colab_link": true
    },
    "kernelspec": {
      "display_name": "Python 3",
      "name": "python3"
    },
    "language_info": {
      "codemirror_mode": {
        "name": "ipython",
        "version": 3
      },
      "file_extension": ".py",
      "mimetype": "text/x-python",
      "name": "python",
      "nbconvert_exporter": "python",
      "pygments_lexer": "ipython3",
      "version": "3.10.9"
    }
  },
  "nbformat": 4,
  "nbformat_minor": 0
}